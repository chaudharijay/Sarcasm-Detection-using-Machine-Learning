{
 "cells": [
  {
   "cell_type": "code",
   "execution_count": 93,
   "metadata": {},
   "outputs": [],
   "source": [
    "import pandas as pd\n",
    "import emoji"
   ]
  },
  {
   "cell_type": "code",
   "execution_count": 94,
   "metadata": {},
   "outputs": [
    {
     "data": {
      "text/html": [
       "<div>\n",
       "<style scoped>\n",
       "    .dataframe tbody tr th:only-of-type {\n",
       "        vertical-align: middle;\n",
       "    }\n",
       "\n",
       "    .dataframe tbody tr th {\n",
       "        vertical-align: top;\n",
       "    }\n",
       "\n",
       "    .dataframe thead th {\n",
       "        text-align: right;\n",
       "    }\n",
       "</style>\n",
       "<table border=\"1\" class=\"dataframe\">\n",
       "  <thead>\n",
       "    <tr style=\"text-align: right;\">\n",
       "      <th></th>\n",
       "      <th>tweet</th>\n",
       "      <th>sarcastic</th>\n",
       "      <th>sarcasm</th>\n",
       "      <th>irony</th>\n",
       "      <th>satire</th>\n",
       "      <th>understatement</th>\n",
       "      <th>overstatement</th>\n",
       "      <th>rhetorical_question</th>\n",
       "    </tr>\n",
       "  </thead>\n",
       "  <tbody>\n",
       "    <tr>\n",
       "      <th>0</th>\n",
       "      <td>The only thing I got from college is a caffein...</td>\n",
       "      <td>1</td>\n",
       "      <td>0.0</td>\n",
       "      <td>1.0</td>\n",
       "      <td>0.0</td>\n",
       "      <td>0.0</td>\n",
       "      <td>0.0</td>\n",
       "      <td>0.0</td>\n",
       "    </tr>\n",
       "    <tr>\n",
       "      <th>1</th>\n",
       "      <td>I love it when professors draw a big question ...</td>\n",
       "      <td>1</td>\n",
       "      <td>1.0</td>\n",
       "      <td>0.0</td>\n",
       "      <td>0.0</td>\n",
       "      <td>0.0</td>\n",
       "      <td>0.0</td>\n",
       "      <td>0.0</td>\n",
       "    </tr>\n",
       "    <tr>\n",
       "      <th>2</th>\n",
       "      <td>Remember the hundred emails from companies whe...</td>\n",
       "      <td>1</td>\n",
       "      <td>0.0</td>\n",
       "      <td>1.0</td>\n",
       "      <td>0.0</td>\n",
       "      <td>0.0</td>\n",
       "      <td>0.0</td>\n",
       "      <td>0.0</td>\n",
       "    </tr>\n",
       "    <tr>\n",
       "      <th>3</th>\n",
       "      <td>Today my pop-pop told me I was not “forced” to...</td>\n",
       "      <td>1</td>\n",
       "      <td>1.0</td>\n",
       "      <td>0.0</td>\n",
       "      <td>0.0</td>\n",
       "      <td>0.0</td>\n",
       "      <td>0.0</td>\n",
       "      <td>0.0</td>\n",
       "    </tr>\n",
       "    <tr>\n",
       "      <th>4</th>\n",
       "      <td>@VolphanCarol @littlewhitty @mysticalmanatee I...</td>\n",
       "      <td>1</td>\n",
       "      <td>1.0</td>\n",
       "      <td>0.0</td>\n",
       "      <td>0.0</td>\n",
       "      <td>0.0</td>\n",
       "      <td>0.0</td>\n",
       "      <td>0.0</td>\n",
       "    </tr>\n",
       "    <tr>\n",
       "      <th>...</th>\n",
       "      <td>...</td>\n",
       "      <td>...</td>\n",
       "      <td>...</td>\n",
       "      <td>...</td>\n",
       "      <td>...</td>\n",
       "      <td>...</td>\n",
       "      <td>...</td>\n",
       "      <td>...</td>\n",
       "    </tr>\n",
       "    <tr>\n",
       "      <th>3463</th>\n",
       "      <td>The population spike in Chicago in 9 months is...</td>\n",
       "      <td>0</td>\n",
       "      <td>NaN</td>\n",
       "      <td>NaN</td>\n",
       "      <td>NaN</td>\n",
       "      <td>NaN</td>\n",
       "      <td>NaN</td>\n",
       "      <td>NaN</td>\n",
       "    </tr>\n",
       "    <tr>\n",
       "      <th>3464</th>\n",
       "      <td>You'd think in the second to last English clas...</td>\n",
       "      <td>0</td>\n",
       "      <td>NaN</td>\n",
       "      <td>NaN</td>\n",
       "      <td>NaN</td>\n",
       "      <td>NaN</td>\n",
       "      <td>NaN</td>\n",
       "      <td>NaN</td>\n",
       "    </tr>\n",
       "    <tr>\n",
       "      <th>3465</th>\n",
       "      <td>I'm finally surfacing after a holiday to Scotl...</td>\n",
       "      <td>0</td>\n",
       "      <td>NaN</td>\n",
       "      <td>NaN</td>\n",
       "      <td>NaN</td>\n",
       "      <td>NaN</td>\n",
       "      <td>NaN</td>\n",
       "      <td>NaN</td>\n",
       "    </tr>\n",
       "    <tr>\n",
       "      <th>3466</th>\n",
       "      <td>Couldn't be prouder today. Well done to every ...</td>\n",
       "      <td>0</td>\n",
       "      <td>NaN</td>\n",
       "      <td>NaN</td>\n",
       "      <td>NaN</td>\n",
       "      <td>NaN</td>\n",
       "      <td>NaN</td>\n",
       "      <td>NaN</td>\n",
       "    </tr>\n",
       "    <tr>\n",
       "      <th>3467</th>\n",
       "      <td>Overheard as my 13 year old games with a frien...</td>\n",
       "      <td>0</td>\n",
       "      <td>NaN</td>\n",
       "      <td>NaN</td>\n",
       "      <td>NaN</td>\n",
       "      <td>NaN</td>\n",
       "      <td>NaN</td>\n",
       "      <td>NaN</td>\n",
       "    </tr>\n",
       "  </tbody>\n",
       "</table>\n",
       "<p>3468 rows × 8 columns</p>\n",
       "</div>"
      ],
      "text/plain": [
       "                                                  tweet  sarcastic  sarcasm  \\\n",
       "0     The only thing I got from college is a caffein...          1      0.0   \n",
       "1     I love it when professors draw a big question ...          1      1.0   \n",
       "2     Remember the hundred emails from companies whe...          1      0.0   \n",
       "3     Today my pop-pop told me I was not “forced” to...          1      1.0   \n",
       "4     @VolphanCarol @littlewhitty @mysticalmanatee I...          1      1.0   \n",
       "...                                                 ...        ...      ...   \n",
       "3463  The population spike in Chicago in 9 months is...          0      NaN   \n",
       "3464  You'd think in the second to last English clas...          0      NaN   \n",
       "3465  I'm finally surfacing after a holiday to Scotl...          0      NaN   \n",
       "3466  Couldn't be prouder today. Well done to every ...          0      NaN   \n",
       "3467  Overheard as my 13 year old games with a frien...          0      NaN   \n",
       "\n",
       "      irony  satire  understatement  overstatement  rhetorical_question  \n",
       "0       1.0     0.0             0.0            0.0                  0.0  \n",
       "1       0.0     0.0             0.0            0.0                  0.0  \n",
       "2       1.0     0.0             0.0            0.0                  0.0  \n",
       "3       0.0     0.0             0.0            0.0                  0.0  \n",
       "4       0.0     0.0             0.0            0.0                  0.0  \n",
       "...     ...     ...             ...            ...                  ...  \n",
       "3463    NaN     NaN             NaN            NaN                  NaN  \n",
       "3464    NaN     NaN             NaN            NaN                  NaN  \n",
       "3465    NaN     NaN             NaN            NaN                  NaN  \n",
       "3466    NaN     NaN             NaN            NaN                  NaN  \n",
       "3467    NaN     NaN             NaN            NaN                  NaN  \n",
       "\n",
       "[3468 rows x 8 columns]"
      ]
     },
     "execution_count": 94,
     "metadata": {},
     "output_type": "execute_result"
    }
   ],
   "source": [
    "df = pd.read_csv(r\"Sarcasm Dataset.csv\")\n",
    "df"
   ]
  },
  {
   "cell_type": "code",
   "execution_count": 95,
   "metadata": {},
   "outputs": [],
   "source": [
    "import re\n",
    "import emoji\n",
    "\n",
    "def preprocess_text(text):\n",
    "    \"\"\"\n",
    "    Preprocesses text by removing URLs, emails, emojis, extra whitespace,\n",
    "    hashtags, and specific characters. Also replaces \"iâ€™m\" with \"i am\".\n",
    "\n",
    "    Args:\n",
    "        text: The input text string.\n",
    "\n",
    "    Returns:\n",
    "        The preprocessed text string.\n",
    "    \"\"\"\n",
    "\n",
    "    # Remove URLs\n",
    "    text = re.sub(r'http\\S+', '', text)\n",
    "\n",
    "    # Remove emails\n",
    "    text = re.sub(r'[a-z0-9]+@[a-z]+\\.[a-z]{2,}', '', text)\n",
    "\n",
    "    # Remove emojis\n",
    "    text = emoji.replace_emoji(text, replace=\"\")\n",
    "\n",
    "    # Remove specific characters\n",
    "    text = re.sub(r'[¯\\_(ãƒ„)_/Â¯]', '', text)\n",
    "\n",
    "    # Remove @mentions\n",
    "    text = re.sub(r'@\\w+', '', text)\n",
    "\n",
    "    # Replace \"iâ€™m\" with \"i am\"\n",
    "    text = re.sub(r'i\\s*â€™m', 'i am', text, flags=re.IGNORECASE)\n",
    "\n",
    "    # Lowercasing\n",
    "    text = text.lower()\n",
    "\n",
    "    # Extra white space\n",
    "    text = re.sub(r'\\s+', ' ', text)\n",
    "\n",
    "    # Remove hashtags (if you only want to remove the \"#\" symbol)\n",
    "    text = re.sub(r'#', '', text)\n",
    "\n",
    "    return text\n",
    "\n"
   ]
  },
  {
   "cell_type": "code",
   "execution_count": 96,
   "metadata": {},
   "outputs": [],
   "source": [
    "df['tweet'].isna().sum()\n",
    "df['tweet'].fillna('', inplace=True)"
   ]
  },
  {
   "cell_type": "code",
   "execution_count": 97,
   "metadata": {},
   "outputs": [],
   "source": [
    "df['tweet'] = df['tweet'].astype(str)"
   ]
  },
  {
   "cell_type": "code",
   "execution_count": 98,
   "metadata": {},
   "outputs": [],
   "source": [
    "df['cleaned_tweet'] = df['tweet'].apply(lambda x: preprocess_text(x))"
   ]
  },
  {
   "cell_type": "code",
   "execution_count": 99,
   "metadata": {},
   "outputs": [
    {
     "data": {
      "text/plain": [
       "0       the only thing i got from college is a caffein...\n",
       "1       i love it when professors draw a big question ...\n",
       "2       remember the hundred emails from companies whe...\n",
       "3       today my pop-pop told me i was not “forced” to...\n",
       "4        i did too, and i also reported cancun cruz no...\n",
       "                              ...                        \n",
       "3463    the population spike in chicago in 9 months is...\n",
       "3464    you'd think in the second to last english clas...\n",
       "3465    i'm finally surfacing after a holiday to scotl...\n",
       "3466    couldn't be prouder today. well done to every ...\n",
       "3467    overheard as my 13 year old games with a frien...\n",
       "Name: cleaned_tweet, Length: 3468, dtype: object"
      ]
     },
     "execution_count": 99,
     "metadata": {},
     "output_type": "execute_result"
    }
   ],
   "source": [
    "df['cleaned_tweet']"
   ]
  },
  {
   "cell_type": "code",
   "execution_count": 100,
   "metadata": {},
   "outputs": [
    {
     "data": {
      "text/plain": [
       "(3468, 9)"
      ]
     },
     "execution_count": 100,
     "metadata": {},
     "output_type": "execute_result"
    }
   ],
   "source": [
    "df.shape"
   ]
  },
  {
   "cell_type": "code",
   "execution_count": 101,
   "metadata": {},
   "outputs": [
    {
     "data": {
      "text/html": [
       "<div>\n",
       "<style scoped>\n",
       "    .dataframe tbody tr th:only-of-type {\n",
       "        vertical-align: middle;\n",
       "    }\n",
       "\n",
       "    .dataframe tbody tr th {\n",
       "        vertical-align: top;\n",
       "    }\n",
       "\n",
       "    .dataframe thead th {\n",
       "        text-align: right;\n",
       "    }\n",
       "</style>\n",
       "<table border=\"1\" class=\"dataframe\">\n",
       "  <thead>\n",
       "    <tr style=\"text-align: right;\">\n",
       "      <th></th>\n",
       "      <th>tweet</th>\n",
       "      <th>sarcastic</th>\n",
       "      <th>sarcasm</th>\n",
       "      <th>irony</th>\n",
       "      <th>satire</th>\n",
       "      <th>understatement</th>\n",
       "      <th>overstatement</th>\n",
       "      <th>rhetorical_question</th>\n",
       "      <th>cleaned_tweet</th>\n",
       "    </tr>\n",
       "  </thead>\n",
       "  <tbody>\n",
       "    <tr>\n",
       "      <th>0</th>\n",
       "      <td>The only thing I got from college is a caffein...</td>\n",
       "      <td>1</td>\n",
       "      <td>0.0</td>\n",
       "      <td>1.0</td>\n",
       "      <td>0.0</td>\n",
       "      <td>0.0</td>\n",
       "      <td>0.0</td>\n",
       "      <td>0.0</td>\n",
       "      <td>the only thing i got from college is a caffein...</td>\n",
       "    </tr>\n",
       "    <tr>\n",
       "      <th>1</th>\n",
       "      <td>I love it when professors draw a big question ...</td>\n",
       "      <td>1</td>\n",
       "      <td>1.0</td>\n",
       "      <td>0.0</td>\n",
       "      <td>0.0</td>\n",
       "      <td>0.0</td>\n",
       "      <td>0.0</td>\n",
       "      <td>0.0</td>\n",
       "      <td>i love it when professors draw a big question ...</td>\n",
       "    </tr>\n",
       "    <tr>\n",
       "      <th>2</th>\n",
       "      <td>Remember the hundred emails from companies whe...</td>\n",
       "      <td>1</td>\n",
       "      <td>0.0</td>\n",
       "      <td>1.0</td>\n",
       "      <td>0.0</td>\n",
       "      <td>0.0</td>\n",
       "      <td>0.0</td>\n",
       "      <td>0.0</td>\n",
       "      <td>remember the hundred emails from companies whe...</td>\n",
       "    </tr>\n",
       "    <tr>\n",
       "      <th>3</th>\n",
       "      <td>Today my pop-pop told me I was not “forced” to...</td>\n",
       "      <td>1</td>\n",
       "      <td>1.0</td>\n",
       "      <td>0.0</td>\n",
       "      <td>0.0</td>\n",
       "      <td>0.0</td>\n",
       "      <td>0.0</td>\n",
       "      <td>0.0</td>\n",
       "      <td>today my pop-pop told me i was not “forced” to...</td>\n",
       "    </tr>\n",
       "    <tr>\n",
       "      <th>4</th>\n",
       "      <td>@VolphanCarol @littlewhitty @mysticalmanatee I...</td>\n",
       "      <td>1</td>\n",
       "      <td>1.0</td>\n",
       "      <td>0.0</td>\n",
       "      <td>0.0</td>\n",
       "      <td>0.0</td>\n",
       "      <td>0.0</td>\n",
       "      <td>0.0</td>\n",
       "      <td>i did too, and i also reported cancun cruz no...</td>\n",
       "    </tr>\n",
       "  </tbody>\n",
       "</table>\n",
       "</div>"
      ],
      "text/plain": [
       "                                               tweet  sarcastic  sarcasm  \\\n",
       "0  The only thing I got from college is a caffein...          1      0.0   \n",
       "1  I love it when professors draw a big question ...          1      1.0   \n",
       "2  Remember the hundred emails from companies whe...          1      0.0   \n",
       "3  Today my pop-pop told me I was not “forced” to...          1      1.0   \n",
       "4  @VolphanCarol @littlewhitty @mysticalmanatee I...          1      1.0   \n",
       "\n",
       "   irony  satire  understatement  overstatement  rhetorical_question  \\\n",
       "0    1.0     0.0             0.0            0.0                  0.0   \n",
       "1    0.0     0.0             0.0            0.0                  0.0   \n",
       "2    1.0     0.0             0.0            0.0                  0.0   \n",
       "3    0.0     0.0             0.0            0.0                  0.0   \n",
       "4    0.0     0.0             0.0            0.0                  0.0   \n",
       "\n",
       "                                       cleaned_tweet  \n",
       "0  the only thing i got from college is a caffein...  \n",
       "1  i love it when professors draw a big question ...  \n",
       "2  remember the hundred emails from companies whe...  \n",
       "3  today my pop-pop told me i was not “forced” to...  \n",
       "4   i did too, and i also reported cancun cruz no...  "
      ]
     },
     "execution_count": 101,
     "metadata": {},
     "output_type": "execute_result"
    }
   ],
   "source": [
    "df.head()"
   ]
  },
  {
   "cell_type": "code",
   "execution_count": 102,
   "metadata": {},
   "outputs": [
    {
     "data": {
      "text/plain": [
       "0    2601\n",
       "1     867\n",
       "Name: sarcastic, dtype: int64"
      ]
     },
     "execution_count": 102,
     "metadata": {},
     "output_type": "execute_result"
    }
   ],
   "source": [
    "df['sarcastic'].value_counts()\n",
    "#1 is sarcastic \n",
    "#0 is not sarcastic"
   ]
  },
  {
   "cell_type": "code",
   "execution_count": 103,
   "metadata": {},
   "outputs": [],
   "source": [
    "from imblearn.over_sampling import RandomOverSampler \n",
    "import numpy as np\n",
    "\n",
    "def balance_df(df, text,target):\n",
    "    ros = RandomOverSampler()\n",
    "    train_x, train_y = ros.fit_resample(np.array(df[text]).reshape(-1,1),np.array(df[target]).reshape(-1,1))\n",
    "    new_df = pd.DataFrame(list(zip([x[0] for x in train_x], train_y)), columns = [text, target])\n",
    "    \n",
    "    return new_df\n",
    "\n",
    "sarcasm_df = pd.DataFrame()\n",
    "sarcasm_df = balance_df(df, 'cleaned_tweet', 'sarcastic')"
   ]
  },
  {
   "cell_type": "code",
   "execution_count": 104,
   "metadata": {},
   "outputs": [
    {
     "data": {
      "text/plain": [
       "1    2601\n",
       "0    2601\n",
       "Name: sarcastic, dtype: int64"
      ]
     },
     "execution_count": 104,
     "metadata": {},
     "output_type": "execute_result"
    }
   ],
   "source": [
    "sarcasm_df['sarcastic'].value_counts()"
   ]
  },
  {
   "cell_type": "code",
   "execution_count": 105,
   "metadata": {},
   "outputs": [],
   "source": [
    "from sklearn.model_selection import train_test_split"
   ]
  },
  {
   "cell_type": "code",
   "execution_count": 106,
   "metadata": {},
   "outputs": [],
   "source": [
    "X = df['cleaned_tweet']\n",
    "y = df['sarcastic']\n",
    "\n",
    "X_train, X_test, y_train, y_test = train_test_split(X, y, test_size=0.2, random_state=42)"
   ]
  },
  {
   "cell_type": "markdown",
   "metadata": {},
   "source": [
    "### Downloading Pretrained Bert and Tokenizer"
   ]
  },
  {
   "cell_type": "code",
   "execution_count": 107,
   "metadata": {},
   "outputs": [],
   "source": [
    "import tensorflow as tf\n",
    "from transformers import TFDistilBertForSequenceClassification, DistilBertTokenizer"
   ]
  },
  {
   "cell_type": "code",
   "execution_count": 108,
   "metadata": {},
   "outputs": [
    {
     "name": "stderr",
     "output_type": "stream",
     "text": [
      "Some weights of the PyTorch model were not used when initializing the TF 2.0 model TFDistilBertForSequenceClassification: ['vocab_layer_norm.weight', 'vocab_layer_norm.bias', 'vocab_transform.bias', 'vocab_projector.bias', 'vocab_transform.weight']\n",
      "- This IS expected if you are initializing TFDistilBertForSequenceClassification from a PyTorch model trained on another task or with another architecture (e.g. initializing a TFBertForSequenceClassification model from a BertForPreTraining model).\n",
      "- This IS NOT expected if you are initializing TFDistilBertForSequenceClassification from a PyTorch model that you expect to be exactly identical (e.g. initializing a TFBertForSequenceClassification model from a BertForSequenceClassification model).\n",
      "Some weights or buffers of the TF 2.0 model TFDistilBertForSequenceClassification were not initialized from the PyTorch model and are newly initialized: ['pre_classifier.weight', 'pre_classifier.bias', 'classifier.weight', 'classifier.bias']\n",
      "You should probably TRAIN this model on a down-stream task to be able to use it for predictions and inference.\n"
     ]
    }
   ],
   "source": [
    "from transformers import TFDistilBertForSequenceClassification, DistilBertTokenizer\n",
    "\n",
    "model = TFDistilBertForSequenceClassification.from_pretrained('distilbert-base-uncased')\n",
    "tokenizer = DistilBertTokenizer.from_pretrained('distilbert-base-uncased')"
   ]
  },
  {
   "cell_type": "markdown",
   "metadata": {},
   "source": [
    "### Tokenization and Encoding (padding, Truncation, max_length)"
   ]
  },
  {
   "cell_type": "markdown",
   "metadata": {},
   "source": [
    "#### Tokenization is the process of dividing text into smaller units called dtokens, which can be words, phrases, subwords , or chars."
   ]
  },
  {
   "cell_type": "markdown",
   "metadata": {},
   "source": [
    "#### Padding is used to match the length of shorter sentences with the largest sentence."
   ]
  },
  {
   "cell_type": "markdown",
   "metadata": {},
   "source": [
    "eg. the cat sat on the mat.\n",
    "\n",
    "\"the\", \"cat\", \"sat\", \"on\", \"the\", \"mat\"."
   ]
  },
  {
   "cell_type": "code",
   "execution_count": 109,
   "metadata": {},
   "outputs": [
    {
     "data": {
      "text/plain": [
       "{'input_ids': [[101, 4931, 2033, 102, 0], [101, 2129, 2024, 2017, 102]], 'attention_mask': [[1, 1, 1, 1, 0], [1, 1, 1, 1, 1]]}"
      ]
     },
     "execution_count": 109,
     "metadata": {},
     "output_type": "execute_result"
    }
   ],
   "source": [
    "text = ['hey me', 'how are you']\n",
    "tokenizer(text, padding=True)"
   ]
  },
  {
   "cell_type": "markdown",
   "metadata": {},
   "source": [
    "\n",
    "e.g. \n",
    "text = [\"hey me\", \"how are you\"] .\n",
    "\n",
    "tokenizer output = 'input_ids': [[101, 4931, 2033, 102], [101, 2129, 2024, 2017, 102]], 'attention_mask': [[1, 1, 1, 1], [1, 1, 1, 1, 1]] \n",
    "\n",
    "here, first array represents the ids of words in first sentence, \n",
    "\n",
    "the second array represents the ids for words in second sentence,\n",
    "\n",
    "attention mask - tells us to to put our attention in which words, 1 being actual words and 0 being padding."
   ]
  },
  {
   "cell_type": "markdown",
   "metadata": {},
   "source": [
    "Truncation -  works the opposite since it trims down the larger sentence to match the length of shorter one "
   ]
  },
  {
   "cell_type": "code",
   "execution_count": 110,
   "metadata": {},
   "outputs": [
    {
     "data": {
      "text/plain": [
       "{'input_ids': [[101, 4931, 2033, 102], [101, 2129, 2024, 2017, 102]], 'attention_mask': [[1, 1, 1, 1], [1, 1, 1, 1, 1]]}"
      ]
     },
     "execution_count": 110,
     "metadata": {},
     "output_type": "execute_result"
    }
   ],
   "source": [
    "text = ['hey me', 'how are you']\n",
    "tokenizer(text, truncation=True)"
   ]
  },
  {
   "cell_type": "markdown",
   "metadata": {},
   "source": [
    "max_length will make each sentence fall into the selected number range."
   ]
  },
  {
   "cell_type": "code",
   "execution_count": 111,
   "metadata": {},
   "outputs": [
    {
     "data": {
      "text/plain": [
       "{'input_ids': [[101, 4931, 2033, 102, 0], [101, 2129, 2024, 2017, 102]], 'attention_mask': [[1, 1, 1, 1, 0], [1, 1, 1, 1, 1]]}"
      ]
     },
     "execution_count": 111,
     "metadata": {},
     "output_type": "execute_result"
    }
   ],
   "source": [
    "text = ['hey me', 'how are you']\n",
    "tokenizer(text, padding=True, truncation=True, max_length=5)"
   ]
  },
  {
   "cell_type": "markdown",
   "metadata": {},
   "source": [
    "Checking the maximum lengthened sentence in our cleaned tweet column."
   ]
  },
  {
   "cell_type": "code",
   "execution_count": 112,
   "metadata": {},
   "outputs": [
    {
     "data": {
      "text/plain": [
       "288"
      ]
     },
     "execution_count": 112,
     "metadata": {},
     "output_type": "execute_result"
    }
   ],
   "source": [
    "my_max = max(len(text) for text in sarcasm_df['cleaned_tweet'])\n",
    "my_max"
   ]
  },
  {
   "cell_type": "code",
   "execution_count": 113,
   "metadata": {},
   "outputs": [
    {
     "data": {
      "text/plain": [
       "['less than 5 minutes after getting my phone back after staff training week at camp i ran my face into a tree branch whilst texting',\n",
       " 'love seeing 15 year olds being vaccinated in the states when i have to wait till the end of june for my first one',\n",
       " 'i get a lot of boy who cried wolf vibes from the red cross and their emergency blood shortages all the time',\n",
       " \"im about to just walk into a place and start working then and there and they'll have no choice but to hire me on the spot\",\n",
       " 'every time i comment on a tiktok asking for captions and the creator actually starts adding captions i get a happy little feeling in my chest thank you ',\n",
       " \"july 1st. half way point of the year. well i think we can all agree that 2020 has gone swimmingly so far. can't wait for part 2. murderhornets\",\n",
       " ' allany updates are fully appreciated mike. many thanks',\n",
       " 'i love my writing teacher sm plsss',\n",
       " 'if anyone wants to know how my nights going i tried making a private story on snapchat and instead made a group chat... i hate my life',\n",
       " \"kind of rude of my stomach to still make whale noises after i've given it a whole protein bar\",\n",
       " \"there isn't a labor shortage. no one wants to work at a minimum wage job with no benefits; where hogs &amp; karens get free meals and coupons for throwing tantrums. idk how this is news to anyone under 30.\",\n",
       " 'my children are 18, 9, and 7. they have never known their nation at peace ww111',\n",
       " 'selling my 4 day lollapalooza pass! message me if interested!',\n",
       " ' racial stereotyping is the problem. please listen and retrain your staff. ',\n",
       " \"really not taking this 'university in lockdown' thing seriously\",\n",
       " \"as if i didn't know this anyway! i'm an owl according to the bbcbodyclock quiz – what are you? \",\n",
       " \"the meaning behind little talks - has to be the most pure example of love i've heard in a song for at least a little while iloveyou\",\n",
       " ' it geta weirder and weirder and i think the only good guy was a drug dealer that has actually murdered people.',\n",
       " 'okay \"deja vu\" is doing something for me that \"driver\\'s license\" never did, and i think it might have something to do with those washed-out, low-fi drums that come in at like, 1:30. 1010 production choice',\n",
       " \"i just sewed through my finger and my brain is just like ' how annoying is it that i just broke another needle and i'm going to have to buy some more' instead of ow i have 2 holes in my finger. can i swap brains\",\n",
       " 'my eye doctor is so cute and charming ok',\n",
       " \"had a look at the hashtag for malignant and tbh - it's fine. the last 5 years have had some really new ideas in horror - this is no new ideas, but lots more body horror. and hot take: i'm not sure you can do body horror without being some kind of problematic.\",\n",
       " 'my best friend rly is my soulmate',\n",
       " \"if you don't like lemonade you're an extremist \",\n",
       " 'doggo owners have started walking the dogs around the technology park i work on &amp; i can see them all from my desk. this is the only positive of working from the office',\n",
       " 'you can help protect hossein and arman. join me and in calling on iran to halt the executions now ',\n",
       " 'we happy!!!!!!!!!!',\n",
       " 'pcc is cheugy',\n",
       " \"our kidsgrandkids will have to remember today's date for a us history test \",\n",
       " 'well that was humiliating for india. no clouds and yet anderson still delivers. i expect india to come back hard. cricket indveng engvsind 3rdtest bbccricket',\n",
       " ' spiced coconut curry . a weekend spent with friends brings a week of content... or something like that . started the weekend off with this yummy morsel, with was a fusion of miso sesame aubergine , broccoli… ',\n",
       " \"wow we aren't the favourites this time? \",\n",
       " 'omg flashbacks to emma blackery girl balls merch and the fact that i spent money on it',\n",
       " \"listening to other remix entries on previous contests i've entered and then being blindsided by the ones never made public is never fun haha\",\n",
       " 'feeling v grateful!!!!',\n",
       " 'trying to know all this history tonight is gonna kill me',\n",
       " ' easily one of the worst and most damaging takes for both trans and cis women i have seen thus far. congrats on reaching new levels of awful lmao',\n",
       " \"pay it forward is honestly one of the worst movies i've ever seen why would would anyone make an ending so sad i've been crying for 30 min\",\n",
       " 'entry level jobs that require 3 years prior experience ly ',\n",
       " ' when is season 5 of lucifer coming?? after corona is gone??',\n",
       " 'always here if anyone needs to talk during this time, if you need someone to listen please message me x',\n",
       " 'well done to the guy who was charging down the stairs at ealing broadway and sent me flying, you made me cry.',\n",
       " 'me: *finishes book 100 of the year, gets excited to relax and watch trash tv the rest of the year* also me: *starts book 101 ten minutes later*',\n",
       " \"who wants a cute customised animal cushion this month to put a little sparkle back in your days. here is 10% off, just because life's a bit crap at the moment, so im sending you some love xxxxx \",\n",
       " 'i want grilled cheese but i dont wanna be shittin and fartin',\n",
       " 'if something says “made with coconut oil” i will absolutely spend $1-5 more on it.',\n",
       " \"i can't wait until the weather cools down so i can read under a tree at a park and look like a mysterious intellectual\",\n",
       " 'denmann brushes r so therapeutic to clean',\n",
       " ' that haircut looks so good on you!',\n",
       " 'i heard somebody unironically say daddy god in a prayer today and akslfljsd why are christians so cringey sometimes ',\n",
       " ' nice',\n",
       " 'wishing you all the luck today - we are all rooting for you, for change and for your freedom. all the love freebritney',\n",
       " 'did you know? abuse and alcoholism and depression will just disappear if the country is opened completely during a pandemic? trumpisanidiot bidenharris2020',\n",
       " 'i love the weekend of the 4th bc its the only time i can jam out to my fave song god bless the usa wo being judged ',\n",
       " 'why am i obsessed with frozen 2 ',\n",
       " 'i am so fucking tired of living in the uk.',\n",
       " \"hahahah is shutting down the entire campus for quarantine!! couldn't happen to a nicer group of covid deniers! covidisnotover karmaisabitch covid19\",\n",
       " \"shameless dead snow 2 misquote the sequel i did 'nazi' coming! can't wait! \",\n",
       " 'just got an a in my actuarial mathematics course, if that doesnt prove the power of manifestation idk what will',\n",
       " 'need a new pfp pls send suggestions',\n",
       " ' this is a powerful message you are conveying and i have the upmost respect for you for putting it all out there.',\n",
       " '\"join me on to help save our planet in just 2 minutes a day\". unitedforgood ',\n",
       " \" well i doubt they're trying to smash the doors in to change the regulation of cough medicine.\",\n",
       " 'sometimes i just go through my phone and look at pictures of my dog',\n",
       " ' neighbours',\n",
       " 'owwwww stressful day.',\n",
       " 'nothing but respect to the people in my neighborhood who are already putting out their halloween decorations',\n",
       " \"how can a person look at lizzo and not think she's hot it makes no sense\",\n",
       " \"that's my best friend \",\n",
       " \"crocodile tears!! it's too late to save yourself now luv!\",\n",
       " \"the fourth of july is my favorite holiday for as long as the nathan's hot dog contest takes then the appeal dissipates.\",\n",
       " ' ye',\n",
       " \"wow how do y'all watch basketball just a bunch of dudes running around and bouncing a ball what a snore fest\",\n",
       " \"i hate when people rag on arthur's name without knowing the meaning behind it. arthur was named after mikeys great great uncle who committed suicide at the age of 30. grandpa says he was one of the most generous men he ever knew and was a very special guy to grandpa \",\n",
       " 'how soon is too soon to quit your first job? adultquestions',\n",
       " \"can't wait to be back at uni so i can order more shoes and clothes without my mum telling me off x\",\n",
       " 'roses are red violets are blue my first love was championship manager tommy svindal larsen and kennedy bakircioglu happyvalentinesday',\n",
       " \"can't wait to meet the love of my life &amp; be happy living life with them !\",\n",
       " 'a single man directed by tom ford simultaneously resurrected me from death only to brutally murder me once more.',\n",
       " 'driving to work singing along and oh story short i michael ball fistbumped my wrist straight into the roof of the car ',\n",
       " 'i deeply regret downloading tiktok.....yet not at the same time',\n",
       " \"my cat eye glasses came in the mail today so i'm officially ready to start librarian school.\",\n",
       " ' why does alexa uk not get improvements like guard, adaptive volume, male voice? should we pay less for the devices than the us equivalent?',\n",
       " 'is this first cybex isokinetic dynamometer? prs2021',\n",
       " ' i had an orange one! around the same time as you as well, great memories.',\n",
       " \"pironkova: it's just a game. serena: i am the game\",\n",
       " \"wow it's almost like we don't nap every single day at the exact same time wow how dare i try to do the thing we do every single day!\",\n",
       " \"the amount of silence i've seen surrounding the topic of palestine from some of my followers is concerning.\",\n",
       " 'you know what makes a 15 minute wait for the bus even better, rum leaking all over the contents of your bag ',\n",
       " \"some of my colleagues need to learn how to rest just got two emails saying “i'll make edits over the weekend” and “never mind, being admitted for my c section right now!” girl get off outlook \",\n",
       " \"i don't follow the women's super league because my team aren't in. southampton have built their women's team from grassroots and youth up, rather than just buying their way into the elite. i am proud of them for that.\",\n",
       " 'these two girls are on the beach in lawn chairs, i love shoobies',\n",
       " \"got locked out of twitter for saying it's embarrassing to be an arsenal fan. that's not okay, but people can be abusive and racist and nothing?!? okay! \",\n",
       " \"watching fleabag for the first time and y'all weren't lying. hot priest is, indeed, hot\",\n",
       " \" it literally says in the article that he's expected back next week.\",\n",
       " 'this is us is the best show ever i recommend 1010',\n",
       " 'all i do is kiss my kitty on the forehead and tell her how much i love her',\n",
       " 'target just brings me too much joy',\n",
       " 'if im your last resort, dont even bother..',\n",
       " 'recently started highlighting',\n",
       " 'rewatching degrassi for the millionth time',\n",
       " \"after 22 hours of travelling, it's so nice to be home\",\n",
       " 'apple cider is back at dunks baby',\n",
       " \"was chris harrison really that fundamental to the bachelor?? what are they gonna do, forget how to function when there's one rose left???\",\n",
       " 'took my dog to the vet today because i thought she had ringworm..turns out she was bit by a gnat lmfao i am a drama queen',\n",
       " \"my extended fam was discussing going on a trip instead of getting presents for christmas, like okay i'm bout it... yeah they were talking about doing to the dells. i'll take my god damn presents thank you very much\",\n",
       " \"babe stop i'm about to gleek\",\n",
       " 'jeudy :',\n",
       " \"whoever's toddler ass sprayed the entire toilet backstage, i hope you stub your toe and bite your tongue really hard. also you were clearly dehydrated, go drink some damn water like an adult\",\n",
       " \"i find it hilarious that ‘black and white' or ‘all or nothing' thinking is considered a cognitive distortion and is a symptom of several disorders, and yet it remains a pillar of american and western culture. it's almost like…. our culture is toxic \",\n",
       " 'jackstack ',\n",
       " 'hell of a last second decision by hooker!',\n",
       " 'what a horrible day ',\n",
       " \" hasn't he opened a few new hospitals? oh sorry, maybe it was a new first aid box.\",\n",
       " \"me and noah forgot that today is our anniversary. if that isn't couple goals then idk what is \",\n",
       " 'there may never be a better celebrity cameo in our time than that one scene in space jam 2.',\n",
       " 'i love shoegaze sm',\n",
       " \". anyway you'd want to come to the jazz?\",\n",
       " \"ariana literally can't make a bad song i said what i said\",\n",
       " \" you're right, i should be grateful for you at least\",\n",
       " \"herbert's vision is elite hokies\",\n",
       " \"can't believe i'm weighing up spending £12.50 on a hotel chocolate advent calendar for myself ... but the heart wants what it wants \",\n",
       " 'excited to present some research, listen to some studies and learn some stats at the psypag2021 conference :',\n",
       " 'getting very anxious waiting for thegrandtour',\n",
       " \"oh cool i drive to school in less than 12 hours and i'm frantically looking up fun facts about the final destination franchise for absolutely no reason it's fine everything's fine\",\n",
       " \"thanks for not informing me that my click and collect order had been cancelled when my account says it's ready to collect my partner has had to travel unnecessarily to stafford and we still don't have our shopping, good diet i guess having to wait for my 26th delivery slot \",\n",
       " 'this is a great month for me, newworldmmo comes out and literally the 1st of october im going to see themanysaintsofnewark if its 2 things people know about me is that i love mmos and the sopranos',\n",
       " ' but what were the ratings?? replied to his tweet with the same thing.',\n",
       " 'nancy grace is seriously the worst.',\n",
       " 'life is about eating chicken finger and getting drunk',\n",
       " \"it's a great feeling knowing that i receive the rarest form of love on a daily … unconditional love is something most people never get to experience so i cherish this blessing that god has given me because he came at the right time 3yearsdown blacklove\",\n",
       " \"you know what's a novel concept? rapists and sexual assaulters not only ruin the lives of their victims but also their own lives. yeah. not the victims testifying. maybe if you didn't want rape accusations then don't rape. also a novel concept.\",\n",
       " 'looking at pre-pandemic photos and remembering that my life used to be deceptively interesting, a sunday mood',\n",
       " 'every day i check for the stardew valley 1.5 update on switch and every day god forsakes me',\n",
       " 'bruh how do people manage dozens of healthy, fun and equitable friendships over a long period of time? i can hardly handle like 3 ',\n",
       " 'agreeing with the right to dunk on the centre is the real dialectical materialism',\n",
       " \"one or my friends has a crush on me, and i feel sad that i don't feel the same way. because i know exactly how that feels. i hate this feeling. \",\n",
       " 'why am i sad for no reason all the time',\n",
       " \"surely if all opticians boycotted contact lens manufacturers until they stopped supplying dodgy online stores, we'd end up with fewer parasitic sites that don't require a fit, aftercares or even a valid eye test.\",\n",
       " \"it's been a blissful 2.5 hours of sleep tonight\",\n",
       " 'yeah i enjoy some oregano on a nice pasta dinner dumps oregano on mac n cheese',\n",
       " \"i'm going to a butch brunchclothes swap this weekend and i think this is the most excited i've been to socialize in a year\",\n",
       " \"just got in, how'd liverpool get on?\",\n",
       " 'just read annie on my mind for the first time…',\n",
       " 'this world is so small i swear everyone knows at least 1 person you might know',\n",
       " 'i feel devastated for the team and the die hard fans, italy did not deserve that win, they were bullies euro2020final eng',\n",
       " 'my heart actually hurts that i am a senior and not a freshman this year',\n",
       " ' i know! just pop the subtitles on. sorted.',\n",
       " 'hate people who moan about every single thing possible ',\n",
       " '\"you think you\\'re better than us because you\\'re vaccinated??\" uh, yeah, yeah i do',\n",
       " 'hey.................jus wonderin if u might wanna get some coffee w me sometime n defund the police together.. lmk',\n",
       " 'v excited to grant an extension to students who email me and my co-teacher and get both of our names wrong',\n",
       " \"what a panel! there's still time to sign up if your interested in all things user experience and people-focused design. \",\n",
       " 'have the most balanced diet, a healthy balance of codeine, panadol and ibuprofen....',\n",
       " 'just had my windows cleaned and i feel posh lmao',\n",
       " \"if someone's not willing to fight for you then they don't deserve to be kept around moveon\",\n",
       " 'i despise 2021',\n",
       " \" would love a cheeky mcdonald's breakfast before a busy day at work would set the day off on the right foot ! fancyamcdonalds\",\n",
       " 'watch death parade right now',\n",
       " ' is it acceptable for students to study in your stores? what are the general rules? thank you!',\n",
       " \"i know i'm really settling into my 30s when i take a drug test and all they find in my system is antacid\",\n",
       " \"how is it that i've managed 3 months without milking a single cow, then the day before i leave i get roped into a 5am milking??\",\n",
       " 'my new favorite thing to do while teaching this insect ecology course is to make a stupid mistake, like posting the wrong zoom link or uploading the wrong assignment, and then say\"can you believe i almost have my phd??\" to my students. they cannot, folks.',\n",
       " 'my boyfriend does this cute thing where he takes recipes, pre-made foods, drinks, etc. and “doctors” them for me so they taste better. like all my containers of hummus? salted, peppered, and a fuck ton of evoo.',\n",
       " \"just nearly cried in the tesco express because they didn't have the cheese pizza or the back up pizza i wanted. my mental stability is strong today.\",\n",
       " \"can a burrito change the world? don't miss chipotle's first game day commercial bonuspoints\",\n",
       " 'if i said something like, \"i drank hot chocolate and ice water in tandem.\" would it be correct? meaning i drank first one, then the other.',\n",
       " \"really looking forward to the day when all my callstexts don't involve depressing updates. cancersucks\",\n",
       " \"i miss my family's road trips. my favorite part of our annual road trip to canada was buying fried chicken and a banana flavored nesquik in michigan \",\n",
       " 'how bout you dont use a gazillion filters on your pictures',\n",
       " 'i hate it here ',\n",
       " 'gonna sleep soundly after my tbcresolutionremix barre-dio class river north ',\n",
       " 'great opportunity for a position at zsl sciencejobs researchjobs postdocjobs graduatejobs animalbehaviour ',\n",
       " \"it's funny my mom thinks i possess no remorse when i feel remorse everyday for existing \",\n",
       " \"no but the worst type of boy is the one that wears shorts and sandals when it's snowing and constantly reminds you that it's not that cold\",\n",
       " \"at&amp;t is truly amazing they think my lg g7 is 3g only to the point where they sent us walmart altec phones and said they'd shut off service. we called them, they told us to not worry and if the phones are fine they wouldn't be shut off guess what got shut off this morning? lol\",\n",
       " 'holby city had me gripped! best. episode. ever.',\n",
       " 'finding vegetarian chocolate mousse is such an annoyingly hard task to do',\n",
       " 'i just finally got around to starting the most recent season of archer, and i am seriously bummed out for being only one episode in to my favorite animated tv comedy',\n",
       " 'thats it im packing my things and moving to italy see u all in a month xo',\n",
       " \"can media, press, and general dickheads stop spinning the narrative that it's a women's job to stay safe and vigilant when they have not experienced themselves how terrifying it is walking alone at any given time of the day? \",\n",
       " \"if you're able to donate, then use: if you aren't able to donate, then i'd appreciate it if this post gained some traction. every little bit counts. if you'd like a drawing for your donation, i'm more than willing to do so. 44\",\n",
       " 'enjoyed every moment of watching our fabulous team gb compete in the olympic gymnastics! sotalented',\n",
       " 'drop some creative fun instagram captions???',\n",
       " 'omg text “pew pew” and see what happens ',\n",
       " \"tell u what it's sooo nice to see things getting back to normal \",\n",
       " \"i just cleaned up my following list. if you feel i've unfollowed you in error, let me know. friends and family whose tweep names i didn't recognize, fellow writers with whom i've interacted once or twice or more, tweeple who just can't live without me. y'all lemme hear from you.\",\n",
       " 'florence pughs nose',\n",
       " \"well that's the last time i swear at the pizza man down the phone. he wins. \",\n",
       " \"imagine the outcry if snp voters went and celebrated this win that actually means something in the same way that rangers fans ‘celebrated' a few weeks ago over football game.\",\n",
       " 'first day of school and spectrum internet has already shit itself. amazing',\n",
       " 'i felt like a wet dog after tonight ',\n",
       " 'spent all morning hiking a mountain and exploring waterfalls. normal people take naps to recover. i hit the gym twice as hard! goals',\n",
       " \" yeah, i feel super out of whack emotionallysensorily when i'm starting to come down with something, and that's basically what your body thinks is going on at the moment, so... checks out. hopefully at least knowing what's happening\",\n",
       " 'alllllll nighter. woohoo',\n",
       " 'damn, imagine being vaxxed and then getting a cold and then losing your taste and smell. oh wait.',\n",
       " 'still time to apply for our clinic supervisor post… ',\n",
       " 'i really need to wash my hair but i am so lazy today...',\n",
       " \"if a dude says “females” i automatically don't trust him\",\n",
       " 'new vid alert powerbeats pro wireless headphones unboxing and review! feat. alex. go check these out ',\n",
       " \" unemployed and lazy that messi guy i'm being sarcastic guys, i'm warning you lol\",\n",
       " 'when i was younger i was restricted to one hour a day on the computer.....how did i survive',\n",
       " \"knew one coworker recently had a baby, but didn't send us pictures so far. people are curious, so i tacked up a stock photo of an ugly baby.\",\n",
       " 'this is the xi i think should start against russia at euro 2016. who would you pick? myenglandxi via ',\n",
       " 'thanks for ratting my location out on stream and then embarrassing me it made my day though ',\n",
       " 'twitter should change it so you can only read quotes but not see how many like “quotes” instead of “11 quotes”',\n",
       " ' if i think you would have a chance against fury i mean its easy for some broken bodied old boy to beat the best in the world',\n",
       " \"between mikey cooking and didi cooking for me i relaxing cooking?? i don't know her\",\n",
       " \" no more or less complex than any other aspect of evolution. it's all trial and error, natural selection.\",\n",
       " 'man i pray i never have to feel the pain or loss of losing my loves ones in a school shooting. hug your love ones a little tighter tonight because you truly never know how long you have',\n",
       " \" if they aren't out yet just wait to get the ps5 later with a discount\",\n",
       " \"raise your words, not your voice. it is rain that grows flowers not the thunder. aka don't be mad, stoopid.\",\n",
       " \"i know starting up school again can be very stressful but pls remember to stay hydrated, don't overwhelm yourself, and reach out for help if you need it my dms are open! :\",\n",
       " \"i can't look at a bug without thinking how many bells i could sell it for... animal crossing has really done a number on me.\",\n",
       " \"i know i didn't just read a 40 page sex scene. my god\",\n",
       " 'reporting on this ceasefire makes it sound like both sides agreed to stop the violence. but you don\\'t get to call a t.o. when you\\'re getting chased down by a leopard. this \"ceasefire\" is just israel saying it\\'ll pause its ethnic cleansing for a little while.',\n",
       " 'that rest stop was so stressful i forgot to pee ',\n",
       " 'stephon! wish bill hader never left. snl',\n",
       " 'thinkin abt coochie',\n",
       " 'does anyone else hate hearing their own voice i sound so aids',\n",
       " \"why is there part of a dead animal in the de courcy's arcade wheelie bin this morning? fb\",\n",
       " 'i asked my swimmer @ the end of his swim lesson today what his favorite part was &amp; he said “going under the rope. it was scary, but i knew i could do hard things.” ',\n",
       " \"might just fuck around and take some horse dewormer for the thrill of if. maybe i'll feel something\",\n",
       " 'whoop diddy scoop poop',\n",
       " 'i miss walking up 3 flights of stairs for class and having to catch my breath in the bathroom ',\n",
       " \"sad because i've missed so much of oxford the past year but happy cuz i just saw a squirrel carrying it's baby whilst writing my essay by the river i love it \",\n",
       " 'the defunding of higher education is a purposeful action against leftism which educated people tend towards, particularly in colleges of education, writing, and humanities where they are known to cluster. “then take up a trade” is artfully packaged book burning.',\n",
       " 'sadly the only reason i stop making tiktoks is because my phone is about to die....',\n",
       " \"left a chai tea in my car last night, baked all day in there today &amp; just now i thought it would be a good idea to take a sip. someone come get me bc i'm clearly not ok\",\n",
       " 'wine, pizza &amp; ufc... is there any better way to spend a saturday night? ufc fightnight',\n",
       " 'best thing to get complimented on is being tan',\n",
       " \" thank you so much for your insightful thoughts- i'm sure is overjoyed that you “quite like him”\",\n",
       " 'passed my phd today and i could not be happier!! ',\n",
       " \"we'll be giving classic, cult and trashy movies away next week at our charity horror night - \",\n",
       " 'wish somebody had told me all i had to do was wait to months for yuengling to come to texas before i bought five cases of it when i was in florida',\n",
       " \"waiting for little one to fall asleep so o can sneak upstairs and get my hot water bottle. she's sitting up in bed practicing her nodding \",\n",
       " \"me: trying to sleep slightly earlier than usual bc i feel like shit my friend, texting the group chat 13 separate times at nearly 4am: hello i don't think so! how abt i tell u abt how bad things are going instead :\",\n",
       " 'i am starting off my day by watching a dragons den special on deborah meaden and eating a pot noodle. my life is perfect.',\n",
       " \"step up toobigtoplayfootball beast adebayo akinfenwa, nearly 39, to score 1st first goal in 2nd tier &amp; gives us tiny chance of staying up in 1st ever season in championship. jog on superleagues &amp; anti-football egomaniacs' 8 figure pay outs getting sacked. this is real football!\",\n",
       " 'quicksand is not as big of a problem in my adult life as i thought it would be',\n",
       " \"focus on the goals you've set and celebrate how far you've come since then. rather big or small, be happy for yourself that you've accomplished something! igotoutofmypjstoday internationalselfcareday\",\n",
       " \"inspired by the ‘dinner with jay z' guy still going strong. i choose now to believe him\",\n",
       " 'today the wonderful cashier lady at white creek told me that people either need to 1. get laid or 2. get a life',\n",
       " 'they had 5 turnovers and we needed to capitalize on them, this whole season we said we needed touchdowns instead of field goals',\n",
       " \"i just overheard this bunch of children behind me yell “don't look at the enderman”……internally yelling as an mcyt mod\",\n",
       " \" there is also one apparent love-triangle-ish situation early on involving the main character - just a heads-up that that's *not* the one you're looking for! i think it's not a spoiler to say that it gets resolved more tradit\",\n",
       " 'big day in the mumford house sports day',\n",
       " \" don't run it on a school-provided laptop\",\n",
       " 'why do i talk to my dog with a speech impediment?',\n",
       " 'i just want someone who would still love me even if i grew that bad moustache',\n",
       " 'imagine not liking football ',\n",
       " 'oh my god this is so satisfying to watch. look at his scared little face ahahahaha ',\n",
       " \"i've decided that i'm ready for the schrute farms offshoot show now.\",\n",
       " \"facetimed with my parents last night while they were with my 6-year-old nephew. i've been missing him like crazy worried about being away from him for months, so i asked him if he remembers me. his response? “i always will.” \",\n",
       " 'but by far, my favorite part was a very drunk rachel running over yelling \"i just kissed a girl for more than three seconds!\"',\n",
       " 'just stuck my entire hand in a hot oven without thinking about the consequences. self preservation is clearly my strong suit',\n",
       " \"breaking my strict buying hiatus to get lisa's album? it's much more likely than you'd think\",\n",
       " 'wow bdubs can bench press 150 kilometers',\n",
       " 'can we sign haaland please or any st who can shoot. drop bobby into the mid. we need goals not passes',\n",
       " \"boss burgers - possibly the best burger i've ever had\",\n",
       " 'markets already down',\n",
       " 'i love the rain but gimme some thunder storms ',\n",
       " \"this is my 3rd time taking a biology course and it's so easy wow i love biology so much i'm so glad i'm so good at this subject.\",\n",
       " 'had no idea deliciously ella was in the zac efron documentaries on netflix!',\n",
       " 'so many people pressed that italy won sorry eurovision belongs to the bisexuals now x eurovision',\n",
       " 'do the hokies really have to play 5 against 6 tonight? come on stripes',\n",
       " 'bring back theme songs!!!',\n",
       " ' you are a right bundle of laughs to take to the pictures draft!',\n",
       " 'joe biden &amp; i are both irish-catholics who grew up in scranton',\n",
       " 'i wonder if the ubiquity of spell checkers will change the evolution of language? showerthoughts',\n",
       " \"i'm a sick. sick man..\",\n",
       " ' ',\n",
       " ' why is his face blurred',\n",
       " 'just a casual day at oklahoma state university ',\n",
       " 'absolutely love spider season! i love crying in fear. i love not being able to sleep. i love people telling me that i\\'m being ridiculous. i love hearing \"it\\'s not gonna hurt ye\". i love using every orange peel, conker and peppermint oil known to man. i love fear. ',\n",
       " 'where is the chancellor? please check the back of your sofas.',\n",
       " 'going off priv to enter a discord sweepstakes',\n",
       " 'snowden sad to see intelligent americans fall victim to the us propaganda machine in this case. so many lies set up to discredit by the us.',\n",
       " 'i got a job. i think i will like it. ^^',\n",
       " \"i'm dying\",\n",
       " ' we share a birthday martin!happy birthday fellow taurean - hope your day has been good so far ',\n",
       " \"i know i'm not the only person who feels uneasy seeing people hug, shake hands, pat each other on the back, peck each other on the cheek and more on any telly programme these days. actually, not uneasy - horrified. socialdistancing\",\n",
       " \"i'm late to the party, but the politician on netflix is making me laugh and cry multiple times in an episode and i love it so much\",\n",
       " 'trains are so unreliable ',\n",
       " 'ah yes, it really is wood-burning stoves in sub-saharan africa thats driving the climate crisis ',\n",
       " 'if you wear jewelry to the gym, i am afraid of you',\n",
       " \"ok but seriously. why did hasting's go back to carmichael and tell her? setting her up for the next season? or am i just clutching at straws?! considering he was appealing too?surely there's another one, it didn't tie the ends up it asked more questions! thurwell wasn't dead?!\",\n",
       " 'the rugrats movie is on ',\n",
       " \" this is all biden's failure....politicians like to pass the buck\",\n",
       " 'i have a love hate relationship with the night shift.',\n",
       " 'fuck jacob frey',\n",
       " \"remember that time when i was grieving and realized i've been wearing the same shirt for three days? good, me either.\",\n",
       " 'happy creme egg mcflurry day',\n",
       " \"today is another day where i haven't met danny devito and i am sad\",\n",
       " 'hissy fit clothing i am obsessed with everything you do',\n",
       " ' we watched this and were really saddened by the lack of deeper digging around this issue. there was an air of blame uk jobless for not stepping up. needs a proper investigation and not a fluff piece imo. thanks for your tweet though.',\n",
       " ' you completely deserve it &amp; are crushing it 100% which reminds me i need to get @ you about having one of your aggretsuko covers made into a print for our sanrio theme bathroom bc no have no wall art up',\n",
       " \"it's over the journey is finally over just beat ffxiii and thus have completed every main series base final fantasy, with the vast majority being done since jan of this year all but 1 and 15 hot take: xiii is a very good game and y'all complain too much about the linearity.\",\n",
       " 'discussing the origins of twerking in class... it all started with dj jubilee in nola whoknew',\n",
       " 'do you think anyone on bachelor in paradise has seen oscar winner parasite?',\n",
       " 'thereceiptspodcast got me listening to old school usher ',\n",
       " 'get ready for the next big horror game this season, slender suburban man',\n",
       " \"my hot water heater is no longer hot watering. the pilot light won't light at all. the furnace kicks over so i'm getting gas in the house. i tried to clean the thermocouple with no luck. do you have a favorite plumber i can call in the morning?\",\n",
       " 'i just absentmindedly scooped a spoonful of cat food into my cup of coffee. someone please save me from myself',\n",
       " 'does anyone have any workoutloose weight tips? i weighed myself for the first time in 6 months and cried and i really need to change this',\n",
       " '“if i could have changed anything about my childhood i would have never watched spongebob” -no one',\n",
       " 'i bought this cute ass animal crossing pin from and they sent an extra pin for free ',\n",
       " \"stop because i just thought of the cutest caption for when i get in a relationship. “i've finally found someone to watch stranger things with” \",\n",
       " ' what do you expect when pros are playing against village green players he should be able to do that every week against players many many levels below a pro player its no different from a pro footballer',\n",
       " \"it's also true; it's about a dream i had where i was living the videogame doom and kicking ass, to be fair. i've been playing through doom eternal recently, maybe that's what's brought i'm not a commando to the front of my mind. anyway:\",\n",
       " '\"olympia sports is having a liquidation sale so we need to buy things now because they\\'re all getting melted\" -gavin',\n",
       " ' ',\n",
       " 'dating apps are like trying to find a snack in the fridge the day before your food shop; no matter how many times you lower your expectations, there are no snacks.',\n",
       " 'greenwood best youngster in the league btw',\n",
       " \"“americans weren't meant to be quarantined! open up the states! let us free!” this. this is what brings into perspective the fact that 10,000 years of civilization is a fraction of a blink in evolutionary time. ignorance is as tenacious as wisdom teeth.\",\n",
       " \"wouldn't it be cool if i could spontaneously combust\",\n",
       " 'how the heck am i supposed to show off my rad new tube socks when class is online now? damn you corona!',\n",
       " 'help raise £2000 to help provide food and essentials to disadvantaged child.. please donate on and rt ',\n",
       " \"great effort we'll get em all next year\",\n",
       " ' my tinder convos have been leaked',\n",
       " 'did you know there is a direct correlation with how cool someone is and how high they cuff their pants?',\n",
       " 'the most embarrassing thing ever just happened to me oh my god waiting at the les schwab tire for my tire to get repaired and they just drove my car up about 15 feet away from me and my phone connected to the bluetooth and i heard my car start blasting barbie tingz by nicki minaj',\n",
       " \" you can choose not to play a player. that's no different in any squad anywhere in the world.\",\n",
       " 'harder and ji have carried this team today',\n",
       " 'hello to all three of my followers, this is my big return to twitter',\n",
       " 'shut the hell up ',\n",
       " 'imagine looking at your newborn baby girl and naming that shit brogan',\n",
       " 'everyone seems to be younger than me these days and it needs to stop',\n",
       " \"tried the first hour or so of tales of arise and it's already showing good signs. only major issue i have is the lack of the local co-op i've come to expect from tales.\",\n",
       " 'a wrong impression is once again my specialty',\n",
       " 'anthony dropped his phone in the ocean',\n",
       " \"since the election is tomorrow, here is a reminder that many people's social media feeds are political bubbles that reflect their own viewpoints. the world at large is not the same as the online world. don't treat them the same way.\",\n",
       " 'today i learned that kitties do this thing called \"making biscuits\" when they\\'re happy and content, and that\\'s the most wholesome thing ever.',\n",
       " ' only joking... keep it real. hr professionals have a life too... ',\n",
       " 'i just deleted every tweet from beyond this year because connor wouldnt stop asking for my cringy ass twitter damn',\n",
       " \"yesterday 4 dinner i just had rice w sriracha sauce on it and it was arguably the best meal i've had in a while\",\n",
       " 'being sick w a nose piercing is rly annoying',\n",
       " 'this just in: phobias can be chosen and you can get rid of them by just not being scared! s',\n",
       " \"i'm sorry but i'll never understand people complaining about free dlc. sure it could have been included in the base game, but i'm still getting the content and for free so who cares\",\n",
       " 'i forgot i have tickets to the disney princess broadway celebration in november um i hope that they replace laura with christy altomare',\n",
       " \" yes, because we need literally every single fucking celebrity to speak up on a topic that's been forced down everyone's throats for the past four months. i use the internet to get away from these fucking real life problems; not e\",\n",
       " 'major news: premium is now bundled with free ',\n",
       " 'hey does anyone know of any organizations that have massive stockpiles of money that could be super useful to the world during a public crisis?????',\n",
       " 'me not turning up to work is a feminist movement actually',\n",
       " \"can't wait to get home take a big ass antihistamine and roll in some topical steroids. damn it, skin! what did i ever do to you?!?!\",\n",
       " \"y'all ever just sob in the vinbúðin?\",\n",
       " 'knocked on a door to deliver a parcel, waited 30secs then i see the parcel had a safeplace so went to the neighbour. then this moody 20yr old answered the door in a spurs shirt talking shit, so i laugh and say was u crying about harry kane, is that why u took so long to answer ',\n",
       " 'marshalls in zandvoort be like wtf1 ',\n",
       " 'this tennis is hilariously fantastic to watch. so many finals are tight, cagey, error-strewn affairs. not this one. raducanufernandez usopen2021',\n",
       " 'locals saying “not all cops” are missing the point and showing their underlying racism that we all knew was there in the first place',\n",
       " 'why was everything in interior design so brown in the 2000s',\n",
       " 'just tried to eat soup with my mask on fail masks',\n",
       " 'working in a restaurant very quickly reminds you how stupid and hateful people are ',\n",
       " \"i wonder if it's too late for me to re-enroll in university and relive it all just one last time.\",\n",
       " 'the talks benefits of universal basic income covid19 coronavirus catholic eastersunday ',\n",
       " 'boss has ordered everyone to work from home for the foreseeable to avoid the spread of coronavirus - this is mental',\n",
       " 'i need every app to have a night mode',\n",
       " 'i forgot to kip',\n",
       " 'the first paper and i accepted as part of our special issue on intergroup conflict is now online! check it out at and kudos sam whitt, and !',\n",
       " 'i dunno where i was when i was dreaming last night, but i woke up with sunglasses on....',\n",
       " 'what a race ! sarcastic wtf1 ',\n",
       " 'boehner not clapping for gender pay equality. cool.',\n",
       " 'love it when i forget to transfer my rent money over from my savings ',\n",
       " \"the vaccination man said i could have some heart problem stuff. i'm being very brave\",\n",
       " \"it's really very selfish of silverstone to be saying the 2022 grand prix is 17-37 cause my holiday year starts on 17 and i would have to use a day of this years holiday allowance to go. i should have been consulted really \",\n",
       " \"oscar just snatched the drink of a drunk girl who kept spilling on chan's pedals. she barely noticed.\",\n",
       " 'the waitress at waffle house handed the check to me instead of noah. girlboss',\n",
       " 'my stray boy playing… he is looking well but still worried will manage one day to grab him. i got sliced up today though. ',\n",
       " 'day 38 of quarantine is an interesting time to get a new drum kit, neighbor',\n",
       " \"i hate those people who follow people just so that they'll follow back and then unfollow them afterwards... how childish are you this is not 6th grade\",\n",
       " \"velvet buzzsaw was good and all but i'm sorry how is morf a literal millionaire and uses a flip phone from 2004\",\n",
       " 'mad how many cars they make now without indicators ',\n",
       " 'yes you can break all the rules for christmas and risk serious fines and killing your loved ones with a deadly virus or you could stay at home',\n",
       " \"did you actually fly on a plane if you didn't post a picture of the view from your window?\",\n",
       " \"how old were u when u found out omaha steaks wasn't a restaurant\",\n",
       " 'looking forward to seeing this weekend',\n",
       " 'there is not enough people here ivoryrooms',\n",
       " 'is this an earthquake because i am shook right now',\n",
       " \"a message to all muslims and refugees: i'm sorry for how my country is treating you. you are only human. refugeesdetained trump rt\",\n",
       " \"i'm sorry but high school was the longest 4 years of my life and i will not miss it at all\",\n",
       " 'give the ball bobby and he will score ',\n",
       " 'i got so much done at work today we are all proud of me today ok?? ok???',\n",
       " \"i've had more interesting conversations w my wall but alright\",\n",
       " 'did sm change the dcm thumbnail??',\n",
       " 'i have bags under my eyes because im tired of your bs:',\n",
       " 'went through all the trouble of growing this bone helmet over my meat computer just for it to start hurting itself from the inside',\n",
       " 'let me guess, it has to be charlotte tilbury makeup. and if by chance you do take it off, use charlotte tilbury skincare ',\n",
       " \"people are always like “i don't remember what life was like before covid” but for me it's more like “idk what life was like before tiktok”\",\n",
       " 'if you have to announce that you treat women right, i am inclined to believe the exact opposite.',\n",
       " 'applying for jobs is so weird and feels fake',\n",
       " 'i am so happy about jenna and julien getting engaged',\n",
       " \"why am i not famous yet cos i'm actually fucking hilarious\",\n",
       " \" i've been waiting for a refund for over six weeks from sky and no one seems interested in helping me despite multiple calls to your customer service team. please help me! sky took my money but seem very reluctant to return it.\",\n",
       " \" well done mark, you're smashing it!\",\n",
       " \"hello i woke up last night to myself grouping psychoactive drugs out loud in my sleep-i'm so ready for finals to be over, wow!\",\n",
       " \"wish my first reaction to everything wasn't crying\",\n",
       " 'protect your energy and elevate.',\n",
       " 'day 3. luggage arrived, thanks . non random hungarian underwear. talk delivered. science sated. metaxa ',\n",
       " \" nurse! john's been sniffing ivermectin again.\",\n",
       " \"here's the situation, do whatever makes your heart happy!!! you're going to die one day dang it. at least do all the things you wanted to before you leave!!\",\n",
       " 'joey the genius! i wish i was as brainy as him towie',\n",
       " 'drinking cold water after putting in a piece of mint gum should be an olympic sport',\n",
       " 'happy happy happy ',\n",
       " 'hahaha these lads have never heard gucci mane or migos in their lives universitychallenge',\n",
       " 'when you get woken up at 3am because of aftershocks from an earthquake ',\n",
       " ' hi there, i\\'m told by the staff at fellowship square on this hot day that there is no cold water provision to full up reusable bottles unless i want to fill up \"from the toilet\" , is that actually my only option?',\n",
       " 'everyone pls stop shooting fireworks my dog is scared :',\n",
       " 'being a business major is legal conversion therapy and must be stopped',\n",
       " 'just dislocated my fucking knee again while out on a walk fab',\n",
       " '\"i can\\'t wait to be a piece of shit with a bachelors degree\"',\n",
       " 'i love it when drunk, inconsiderate flatmates come back and start climbing on the roof istillhaveexams tryingtosleep',\n",
       " 'i have never missed something as much as i miss the soy milk machine at the dining hall',\n",
       " ' how has marcel kittle been allowed to use disc brakes his year??',\n",
       " \"wait didn't covid go away?? it's after november third so it definitely should be gone now...wait...i'm confused...121,000 cases in a day? you're telling me the whole world didn't fake a pandemic for the us election? no way...\",\n",
       " 'all these exams',\n",
       " \"ain't never really had a daddy so i'll never really need one \",\n",
       " 'lol at my life :',\n",
       " 'seeing people post gofundmes simply so they can get their education breaks my heart',\n",
       " \"i picked next year's musical already...electro city. obvious choice.\",\n",
       " \"but clinton's emails! oh. emm. fucking. gee. clinton's god damnèd emails. the humanity of it all. \",\n",
       " \"i don't think i've ever truly brushed my teeth correctly\",\n",
       " ' the old phrase that says, if you are in the middle of the road you will be run over. starmer is stuck like a record that is stuck in the same groove and nobody wants to hear that. also where are the policies?',\n",
       " ' yea this aint it imma call u newb',\n",
       " 'does the actor make a line famous, or does the writer?',\n",
       " \"i've come to the conclusion i don't rly like strawberries &amp; i think they're overrated\",\n",
       " 'i hope every sweet girl that came in to my job today knows that i would die for them and my compliments are genuine and full of love',\n",
       " 'ever have those dream where everything that could be was and then you wake up and are like . . . oh back in reality so soon?',\n",
       " 'do i wanna get back together or do i just not want to feel the pain of a break up',\n",
       " 'there\\'s far too much \"imagine if you had kids\" talk and far too little \"imagine if you couldn\\'t have kids\" talk.',\n",
       " \"it's my last full week of working from home now it's almost here, i don't think i'm ready to go back to the office\",\n",
       " 'i have been informed that, as aroace and agender, i have triple visibility and am now visible from space.',\n",
       " 'one point of correction though literally artistic licence!. at present, exercise has been shown to be effective in other autoimmune conditions but not specifically in aps.',\n",
       " 'i love grocery shopping',\n",
       " \"i'm currently getting a japanese straight perm so that i have the beautiful sleek hair of my dreams\",\n",
       " \"i always think going braless is a good idea until i'm in public and am insecure because i'm not wearing a bra\",\n",
       " '\": florida you literally have one job\"',\n",
       " 'those “nutrition” places yall frequent are thinly veiled herbalife stores. also, they are not healthy...',\n",
       " 'j&amp;j update: arms and back have been soreaching all day and went through some pretty intense fever chills last night. would do again 100x over in a heartbeat.',\n",
       " 'nightmares are so horrible and weird.. my is my brain subconsciously thinking about horrible things like what?',\n",
       " 'teenage daughters and i learned how to play \"cataan\" tonight. so much fun! , thanks to wil and , it was very easy to learn! we look forward to playing again!',\n",
       " \"happy birthday to me. i got pinged and can't leave the house \",\n",
       " \"i'm watching a true crime doc while taylor reads harry potter fanfic this is the life i've always wanted\",\n",
       " \"“tit for tat, butter for fat, you kill my dog, i eat your cat” is a liberian proverb for “an eye for an eye”. my ancestors were spittin'\",\n",
       " 'hear me out... the lyrics in \"coney island\" should\\'ve been \"lost again with no surprises, disappointments close your eyeses\" fixed it for you evermorealbum ',\n",
       " 'the fair-weather fans in all of these threads. wake up call. fleury is a human being. surprise!',\n",
       " 'the views on this hike were fantastic... at least the ones without my big galoot aka in them. @ silver lake american fork canyon ',\n",
       " 'match play golf is just class to watch',\n",
       " \"it's my 24th birthday and i'm watching adventure time. wearing a marvels hoodie. whatislife wahhh24isold\",\n",
       " \"you mean to tell me that i'm being forced to take all online classes, which require no classrooms or anything physical of any kind, and i have to pay more than in person classes???\",\n",
       " 'youtube just gave me a gamer targeted covid vaccine ad and anyway get vaccinated gamers.',\n",
       " 'i disturbed a small wildlife meeting this morning on my short cycle ride: a squirrel, 4 green woodpeckers and a rabbit all hopped, scampered or flew off in different directions as i came past. like a scene from snow white or bambi. felt blessed to be out still shielding.',\n",
       " \"just booked tickets for santa's grotto for the kids. organisation is key \",\n",
       " 'every time i see someone named david im like ….. wow… that really is a guy named david',\n",
       " ' yeah, majority of colds are rhinoviruses up to 80%. then you also have adenoviruses, other enteroviruses, some influenza type viruses, etc, all outside of just coronaviruses. side',\n",
       " \"got razor burn on my mf armpits so that's it this pain ain't worth societal expectations on women\",\n",
       " 'ate a bagel with cream cheese earlier and the impending doom immediately vanished from my mind',\n",
       " 'there is nothing wrong with showing concern when the next second in command of the free world has no respect for minorities boycotthamilton',\n",
       " \"so the royal family is sound with pedophiles but as soon as a mixed race baby comes into it they're scared ? makes sense \",\n",
       " 'villa and newcastle shirts seem to be a massive clash for my eyes',\n",
       " \"so our landlord just brought in new sofas which is lovely but in the process broke a table, someone's cup and spilt tea on the carpet and left saying “you should probably clean that up” thanks darren \",\n",
       " 'mad how a bit of fake tan makes you feel like a new person. like a more confident, bronzed person ',\n",
       " \"know i told myself and my loved ones id hold out longer but i don't think i can, this is it, i told myself i would do something else before id do this again but you know lifes short and i want to watch the sopranos for a 9th time sopranos\",\n",
       " 'the motto of 2021 is: “stop defending shitty men” this is not up for debate',\n",
       " 'another week really does start tomorrow... ',\n",
       " \"there's a girl with a heavenly voice singing for charity outside ealingbroadway station\",\n",
       " 'also my twitter seems v quiet, what is going on?',\n",
       " 'yeah, lydia! making alaska proud ',\n",
       " \"please showcase hanahs story. the dog who was ripped form her mothers arms in the joplin tornado. let's bring her home!\",\n",
       " 'the only thing i got from college is a caffeine addiction',\n",
       " \"so i can go the pub have a meal, go to the cinema, hairdressers and a shopping spree, yet won't be allowed to see familyfriends@&amp; them meet my newborn baby?? \",\n",
       " 'feels ps5share, ratchetclankriftapart ',\n",
       " \" oh, i'd love taking on culver as a reclamation project, and hernangomez is a great backup. only issue i see here is the earliest we could trade a first-round pick is 2027.\",\n",
       " \"i'm so glad the clocks just went back, i have this whole extra hour of insomnia to play with.\",\n",
       " \"thinking of getting a tattoo that says “enough” both affirming that i am enough while also suggesting i've had enough\",\n",
       " \" do we have to book online or can we buy tickets when we get there? the website won't accept my meerkat code.\",\n",
       " \"the best part of going out, is waking up at 2pm the next morning wondering whether you're dead or not and what day it is. \",\n",
       " 'finally got new contacts which means i finally plucked my eyebrows for the first time since laila was born or, lets be honest, well before she was born.',\n",
       " \"the only ppl who should be worried about biden's tax plan r the ones who get gifts for easter\",\n",
       " \"just tested my egg drop at my apartment complex and it fell on a man's head : but no worries he was bald so the yolk just wiped right off\",\n",
       " \"semester hasn't even started and i've already had two breakdowns : this is gonna be a fun one!\",\n",
       " 'going to enjoy some brunch with the honey love, but my banana pancakes are a fail. ',\n",
       " 'pretending to blow on my beverage as i drink wine out of a mug during my zoom class because i am the queen of deception!!!!!!!!!',\n",
       " \"don't worry, 20 something people who follow me here, i brushed my hair for the first time in a week today. i know, impressive.\",\n",
       " 'reina when we first put on her halloween costume vs when we started saying how cute she was: ',\n",
       " ' they probably filled in the ground with something too dense for the roots to get into. clay or something like that',\n",
       " \"it's funny that you guys thought sports mattered during a pandemic. i simply can not imagine caring about a winning streak rn.\",\n",
       " \" surely you're not suggesting that their own thorough investigation of their own suspected &lt;fraud&gt; which found no evidence for said &lt;fraud&gt; was carried out with anything but the very highest\",\n",
       " \"i may look happy on the outside bit on the inside i'm dying painful sad\",\n",
       " 'growing up is praying to ur childhood dog instead of god',\n",
       " '4-0 this morning, 0-1 this afternoon. luck possibly changing.',\n",
       " \"congratulations to trump on his second impeachment. it's a tremendous achievement borne of hard work, focus and dedication. record breaking. historic. bigly. impeachmentday trumpimpeachment2\",\n",
       " \" are basically thieves, quoting it's in the small print so you can't have a refund. dates moved from summer, to a 4 hour slot on a friday evening in november which is about as much use as a telescopic sight on a knife.wewantarefund \",\n",
       " \"alright i'm ready for some march madness\",\n",
       " 'unreal how much i love my new tattoo',\n",
       " \"nothing screams “i'm a glamorous cosmopolitan woman” like following your dog down the street in the midst of winter, saying “go potty! go potty!” over and over again.\",\n",
       " ' ah yes, people with eating disorders, famous for easily being able to not worry about their weight',\n",
       " \"$4.55 now i'm a liar $visl\",\n",
       " 'something really great about the initial covid shutdown last year was the way it completely erased march madness from the calendar. missing that, tbqhwyrn.',\n",
       " \"bring me the horizon's new song drown is my new favourite\",\n",
       " \"just tried to make a hot chocolate using only cold milk and wondered why it didn't taste right. that's where i'm at today.\",\n",
       " 'i hope u sleep maybe forever maybe not lol',\n",
       " 'dad: \"are ya sending any of those boys from 5soz wtf is a 5soz dad a valentines gift?\" me: yes dad yes i am cuz im dating all of them duh',\n",
       " \"accidentally ordered a chicken sandwich from mcd's without the bun… they had to put fried chicken with two pickles on top in a box. i hope i made them laugh\",\n",
       " 'love it when jonny makes me use earphones to watch something on my phone so he can play fifa',\n",
       " 'if trees would simply stop producing flammable leaves climate change would not be an issue',\n",
       " \"i'm in canada so like happy 4rth?\",\n",
       " \"women say they want a man who has his life together. so how come whenever i show one the seven days' worth of microwaved broccoli, carrot circles and chicken breast i keep in a tupperware in my fridge at all times, they are instantly rendered catatonic with clinical depression\",\n",
       " 'cheers delivery lady for dropping my parcel off covered in coffee ',\n",
       " \"one positive of being stuck inside all the time is i've almost got back to being as good at fifa as when i was 15, and i consider that an achievement\",\n",
       " \"chris krebs: there is no foreign power that is flipping votes. there's no domestic actor flipping votes. i did it right. we did it right. this was a secure election \",\n",
       " 'quarantine day 256: dear ancient greeks, re: the blanket-wearing—i get it. quarantinelife',\n",
       " 'nah fuck u and all ur issues',\n",
       " 'i would rather be outside reed timmers car in f3 tornado winds than go to work today',\n",
       " 'james harden is allowed to travel every time he drives apparently',\n",
       " 'learned that a pokemon card i own has been selling for a high price lately so this is a great time to have no idea where my cards are.',\n",
       " ' wake up babe new bladee',\n",
       " \"i was in no way prepared for the emotional wringing of my soul that talesfromtheloop would put me through. and the score? stunning. if you want something beautiful, intelligent and unique to watch, give it a go. it's on amazon prime. i'm off for a lie down and a cry.\",\n",
       " \"it's amazing how toxic people are always blaming others but fail to realize that they are the common denominator in all problems \",\n",
       " 'i love leaving the doctors office in tears. i need this kid to just decide to leave my body so we can be done and home together.',\n",
       " 'as a poly dude, this \"boyfriends\" comic is really fucking adorable i dont trust no bitches who say its \"fetishy\" or \"not good representation\" i love them id die 4 them',\n",
       " \"remember when everyone's feeds were just retweeted giveaways looool those were the days\",\n",
       " 'stimulus checks should come with hand lotion, a face mask, and a bonus for every instagram bingos you do',\n",
       " 'who needs an alarm when u can have the low rumbling voice of a stranger to wake u up in the morning ',\n",
       " 'why do we apologize when we get emotional as if no other humans ever get emotional too? why have we learned to say sorry for a very normal and innate thing!?',\n",
       " 'putting the toilet paper roll on so that it hangs under instead of over is a crime worthy of the death penalty',\n",
       " \"when is the person trying to log into their apple account going to realize the texts are going to someone else's phone... it won't stop.\",\n",
       " 'anyone else getting goosebumps watching ? incredible ',\n",
       " 'tbh do i even have to come out as gay i feel like my whole existence just speaks for itself',\n",
       " \"can't wait to see ed sheeran at tramlines tomoz x\",\n",
       " \"update: almost 10 hours since the first modern vaccine. arm stiffness and pain has definitely worsened. i can't hold my arm over my head and it hurts to lift my arm up to eat or do anything. can't move myself on the bed or do things with my left arm. \",\n",
       " 'bro drake thinks about rihanna everyday',\n",
       " 'souja boy always mad unprovoked',\n",
       " 'i miss classes being online ',\n",
       " 'wow this growth spurt is really taking longer than i thought haha',\n",
       " 'happy international lesbian day i love loving women ',\n",
       " \"it's so cold that i tried to open my banana and it snapped it half\",\n",
       " \"suns to the finals let's go rallythevalley\",\n",
       " \"every day spotify insists i listen to ‘coconut' by harry nilsson but i don't ever have the heart to skip it so the cycle continues and the algorithm becomes further entrenched\",\n",
       " \"trader joe's orange chicken is lowkey better than the orange chicken at most seattle area chinese restaurants\",\n",
       " 'pregnant and constantly crave kitkats. i literally have been living off of them for the past 4 months. ',\n",
       " 'good news: played out of my mind from the sand traps today. bad news: was in the sand traps a lot today.',\n",
       " 'i just want to tell me his vision for me.',\n",
       " 'after a valiant fight, my aunt is being taken off the vent. not covid related but a huge loss for my family. it is truly a sad day.',\n",
       " 'eddie kendricks discography is crazy',\n",
       " 'the worst thing about coffee is that it looks so nice and then you drink it and it just isnt',\n",
       " 'i think everyone should get an air fryer good vibes only',\n",
       " \" i've withdrawn over 5 figures approaching 6 with no issue don't care g\",\n",
       " 'beer and the ufc are good',\n",
       " \"shoutout to the assholes at basically every gas station rn filling up multiple gas canisters when i don't even have enough gas to get home... \",\n",
       " 'being a curly-haired ginger and walking into a hair salon full of women is a level of celebrity my social anxiety cannot handle',\n",
       " 'they should just put a wall around the pitch to stop the ball going out',\n",
       " 'mixing up the wfh routine by working in the living room means bubbles watching my every move bunnies rabbits pets ',\n",
       " 'in desperate need of and i can not stress this enough spring break',\n",
       " \"i think....when packs go on sale....i will buy get together and paranormal?? i was actually kind of disappointed with the gameplay i saw in paranormal but recently i've been craving new careers so\",\n",
       " 'was fun. looking forward to the next one! podcasts ',\n",
       " \"my brain cells when i'm asked to do any math whatsoever \",\n",
       " 'recording myself talking in spanish and then having to listen to it back is seriously one of the most painful things in my life',\n",
       " 'come on tom ford! snooker welshopen',\n",
       " 'bignightin please send a virtual hug to grandma gwen in liverpool from the wigwoods in coventry. separated only by miles of cuddles xxx',\n",
       " 'i am lindt excellence! take the taste challenge quiz &amp; find out which lindt chocolate you are. ',\n",
       " \"i've tasted and seen of the sweetest of loves. where my heart becomes free and my shame is undone\",\n",
       " \"he's all that literally made me cry i'm not kidding i feel so dumb!!!!!!!!\",\n",
       " 'a nice thing about not sharing my office with anyone is that i can take a nap at work',\n",
       " \"i'm sad i didn't get to decorate my grad cap but i would have been to lazy to do it anyways\",\n",
       " 'if your flight is delayed more than the length of the flight itself everyone should get free booze cc: ',\n",
       " \"kings of leon. sex on fire. that's it. that's the whole tweet.\",\n",
       " 'people in london are always asking me for directions !! i am as lost as you !!!!!',\n",
       " \"first day of work, and i've already cried on the job \",\n",
       " 'very exciting to see rapper referencing of mice and men on his verse ',\n",
       " \"getting a dog was single handedly the best and worst thing i've ever done..can't imagine life without her and i can't live without her.. make sense?\",\n",
       " \"i'm not sure what the guys in the chainsmokers look like, but everyone in this phoenix crowd looks like they're in the chainsmokers.\",\n",
       " 'i swear some people come to the library just to breathe heavily out of their mouth',\n",
       " 'angela merkel: doctorate in quantum chemistry leo varadkar: worked for years as a gp boris johnson: once accidentally called ping-pong “wiff-waff”',\n",
       " \"i'm gonna be real i voted weeks ago and i'm lowkey sad i don't get a sticker\",\n",
       " 'also, it gets forgotten just how often the israeli military conducts raids just for fun, to terrorise and demoralise the people who live there, and to collectively punish the population. this happens all the time, out of sight. ',\n",
       " 'thinking of graduating from oxbridge and then making £800,000 per year from a weekly newspaper column exploring such topics as “the much-maligned cauliflower”',\n",
       " 'taking summer classes was a mistake. i miss my one week of peace.',\n",
       " 'people who hate the snow give off the same energy as people who hate cats',\n",
       " 'what ever happened to the lizzie mcguire reboot',\n",
       " \"the city is flying, we're fighting robots, and i have a bow and arrow. classic\",\n",
       " \"how i flirt with boys boy: “hey i saw you from across the room and had to come over” me: “wow you're super observant. do you have 2020 vision?”\",\n",
       " 'i just want things to go back to the way they were @ diapers pacifiers and sippy cups',\n",
       " 'going to my first japanese steak house tonight. ',\n",
       " 'i have this really good looking kimchi ramen but no bowl to put it in ',\n",
       " 'i just love everyone posting wholesome pics with their pets when theyre home for break',\n",
       " \"teams is down what a shame i can't do my assignments \",\n",
       " 'that is absolutely disgusting ',\n",
       " 'fox news et al should be shut down. absolutely heartbreaking. goptraitors ',\n",
       " 'broadband back, starting to feel a bit more normal.',\n",
       " \"woke up to my dog sneezing on my face. how's your day going so far?\",\n",
       " \"that was the most mentally draining match i've ever been at. i wish the outcome was different, but i am still so proud of you . my first match at wembley with my big boy \",\n",
       " \"the amount of mcdonald's diet coke's i've purchased in the past week is embarrassing\",\n",
       " 'billy gunn sorta relevant for the first time in years...',\n",
       " 'why are tanning beds legal?',\n",
       " \"why you gotta take someone pure like sean lock from us huh? why couldn't it be james corden?\",\n",
       " \"i don't get the whole bishop sycamore thing. i literally have nightmares about being a grown man and playing high school football again, i don't get why anybody would choose to do that willingly\",\n",
       " \"i had the biggest mindblock with ac for so so long but i'm actually getting back into playing a lil bit every day again and enjoying it \",\n",
       " 'can we have a bit of a strong cold breeze please',\n",
       " 'falling asleep at your laptop is always fun',\n",
       " 'the greatest! rip : ',\n",
       " '. will be claimed by the brits, canadians, romanians and chinese. what a future she has ahead of her. a star for life.',\n",
       " \"maternal morality is so much higher in the us than any other country in the world, even higher for black women. it is time to put research into women's health!\",\n",
       " 'hug your loved ones right every single day. life is not promised to us so make every second count',\n",
       " \"just redownloaded the app - let's see if it improves my exercise routine!\",\n",
       " 'you know what works better than therapy? watching mamma mia',\n",
       " 'oh hey guys i got the job i start wednesday ',\n",
       " \"when i feel like shit i like to go on wish, add a load of crap to my basket and then delete the app without buying any of it. satisfies my need for shopping but doesn't contribute to fast fashion.\",\n",
       " 'please,,, for the love of god stay home so we can have halloween',\n",
       " 'of course the orioles would end their losing streak on a night where they face the odds on mvpcy young favorite. hitting 3 homers off him. having him strike out 3 times, and not hit a ball out of the infield. and come back from a 6-2 deficit. of course.',\n",
       " 'ever had one of those weeks where each day brings a new problem to deal with n it stresses you to the limit',\n",
       " 'having a window right in front of my bed is amazing right now! this breeze is doing me all sorts of goodness ',\n",
       " \"i'm still confused why 11 isn't pronounced onety one \",\n",
       " \"i'm at a weird point in my life where i'm on etsy looking for cute reusable tote bags\",\n",
       " \"ok i can't take this anymore, i'm gonna sit my ass down and watch this film, if it's shit i stg i'm suing the internet for lying to me\",\n",
       " 'any beetwitter or ecologytwitter scientists have suggestions for where to submit small protocol papers? rejected multiple times, everyone expects a full research article but this was just a small but worthwhile! protein assay analysis protocol test... suggestions appreciated!',\n",
       " 'i love siriusxm. siriusxm is my friend',\n",
       " 'yes, i am taking royalties for the phrase “thiccle mistress, which i definitely just made up - thanks for asking',\n",
       " ' is there a problem with the predictor page? its not loading so unable to enter my predictions.',\n",
       " \"don't understand the scoring on allstarmusicals ? how has everyone got 10s apart from barney? his was the best so far by quite a bit\",\n",
       " \"humans are the only animal that can't tell fantasy from reality\",\n",
       " \"south park being taken off hulu is the worst thing that's happened to me personally in 2020 and like.. my dad died\",\n",
       " \"heard a rumor that baja blast is coming to stores and regardless if anything else i hope for in life falls through, at least i'll have this.\",\n",
       " \"like this if you own a gray bath mat i'm tryna see something\",\n",
       " 'you would think the odds of me sitting next to the exact same stinky man three bus trips in a row is highly unlikely. alas i seem to be a lucky gal',\n",
       " ' i think the episode really fails cos of that. some of the comedy is great, the interactions between mckean and scully are the best, but the episode had sinister intent and everybody missed it.',\n",
       " 'i love how quiet it gets when it snows',\n",
       " \"if you didn't order the smores girl scout cookies this year, i'm rlly sorry\",\n",
       " 'loving the fresh trim . looking fresh! my projections look even better now! ',\n",
       " 'not to brag, but my thesis topic was so good that someone else published on it three months ago ',\n",
       " 'pls send me funny vines in my dms',\n",
       " 'i went outside today and suddenly my depression is cured',\n",
       " ' “please get a free shot or take a once weekly nose swab. we will literally pay you to take time off to get the shot”- czar nicholas, king george, charles i, and so on.',\n",
       " 'when i see the homies succeed, creating more, getting their ideas out, it inspires me to go harder. no jealousy, no competition, just motivation.',\n",
       " 'taking care of my mental health by not reading discourse about trans people in the olympics',\n",
       " ' all i want for christmas is fate collab rerun in 2021. alongside blu ray release?',\n",
       " \" reviewer 2: this is a very weak paper that fails proof of concept. stating a cat bed is also a wizard's hat is totally wrong and your data cannot support this\",\n",
       " \"yesterday a stranger went into detail telling me how much better her new man is compared to her ex husband at oral sex, and it was a weird conversation but i guess i'm happy for her. new year new mens.\",\n",
       " 'being a girl is about garish blue eyeshadow, mostly',\n",
       " 'people who drive under the speed limit. death penalty.',\n",
       " \"hard to imagine a better start to saturday than running through the forest listening to nrc's “one hour run”, coach bennett's love letter to running. thanks coach this is my favourite audio guided run so far nikehalfmarathontrainingplan week12complete\",\n",
       " ' yes the racist is so cool!!!',\n",
       " 'if ya headcanon cub as an alien you could also make a lilo and stitch au with scar as lilo and cub as stitch',\n",
       " \"i never feel more empowered than when i'm listening to ‘this is me' from camp rock\",\n",
       " 'our new neighbours told macauley their names and a couple of peoples names on the street and all he remembered was the name of the cat and dog ',\n",
       " 'why did no one tell me that ssris cause hand shakingjitters cause this shit sucks',\n",
       " \"not asda having only one checkout lane open i've been standing in this line for like 20 minutes with my food slowly defrosting without people social distancing around me \",\n",
       " 'like all humans, i make some decisions that go against the best interests of myself or others. one such decision is sometimes eating too much sugar, another was consuming animal products. i would love the government to nudge me towards better decisions. nationalfoodstrategy',\n",
       " 'using jazz as a reading playlist has reminded me one thing: i love ella fitzgerald',\n",
       " \"when it's september 1st and you're excited cause you realize halloween is next month enthusiast \",\n",
       " 'we have changed our name on here to keep family from finding us, we are still didivination just look different.',\n",
       " 'overthinking everything in life really takes a toll on you',\n",
       " \"i've grown a lot . when people say slick shit , i just laugh nowadays if you ain't coming to me w no real money .. do not hit my phone \",\n",
       " 'it is absolutely not a good idea to rewatch the series finale of the office just weeks away from graduating college ',\n",
       " 'both doors to my house were open for a bit today and neither cat used the chance to escape i think they really love us',\n",
       " \"it's been a productive last day. maxed out all my credit cards in preparation of my rapture tomorrow!!! iwishwehadallbeenready\",\n",
       " \"who's ready for monsoon storms allllll weekend?!?!\",\n",
       " 'not sure if i like the updated font on twitter yet, but those black and white buttonsicons are not it…',\n",
       " 'woken up at 2:54am by a mini earthquake! seems it was felt across essex and kent. 4.2 on the richter scale if automated tweets are correct!',\n",
       " \"friendly reminder you're not vegan if you swallow cum\",\n",
       " \"i forgive, but never forget i don't hold grudges, i just move on i suggest that you do the same.\",\n",
       " 'sure you have a paying job but are you a silver chick fil a rewards member? ',\n",
       " 'i love acknowledging the other twinks on campus hi friends!!',\n",
       " ' nah bruh you just drinking it upside down ',\n",
       " 'my favorite part about running on the track is seeing how high my heart rate gets just walking up the stairs to it.',\n",
       " 'i put on work out clothes then lay on my bed and watch netflix',\n",
       " \"my ex got the covid vaccine..he kept saying he wasn't going to get it and i told him about my medical issues and how it's not about him but people like me..and he thought about it and got it. he gets his second dose next month!\",\n",
       " 'mom: jack, do you have a a lot of homework tonight? jack: i finished it all in school god i miss those days',\n",
       " 'so so thankful for the truth and leadership is dropping tonight',\n",
       " \"first official day of maternity leave and the sun is beaming! let's hope this is a sign of the summer to come \",\n",
       " 'love it when someone buys a £175 coffee machine in paris with my debit card ',\n",
       " \"couldn't be prouder today. well done to every student who got their gcses this morning after 18 months that would challenge anyone in history, at any stage in their lives. the teachers did an amazing job. gcseresults2021 gcseresults\",\n",
       " 'the last football game i went too. 1 year today. what a night ncfc ',\n",
       " 'yo do yall do hysterectomies?',\n",
       " 'the only thing the boomers got right is how scrumptious elvis presley was',\n",
       " \"it's all about women in stem struggles. what about women in interactive media struggles: i no longer win against my friends in smash because they major in goddamn video game.\",\n",
       " 'me: revises cells + other general biology stuff edexcel: \"i want a fit summer bod, get them to tell me how i get one\" edexcelbiology gcses2018',\n",
       " 'i really want to hug david tennant',\n",
       " 'anyone else wanna ruin me day x',\n",
       " 'no more instagram. we must all return to scrapbooks.',\n",
       " 'watching the sopranos is neat. the overarching theme of characters dealing with the dissonance of real life vs nostalgiapopular entertainment portrayals of the mob is engaging. also fun watching said badass mobsters dealing with the monotony of suburbia.',\n",
       " \"jyp's producers need their asses ate\",\n",
       " \"sometimes i'll wake up earlier than usual so that i can have even more time to lay there doing nothing until i'm late for work.\",\n",
       " 'pharmacy benefit managers are the first line of defense against rising drug costs. unnecessary and burdensome government regulations make it harder for them to save you money. ',\n",
       " \"my essay was so bad that my prof is giving me a fucking extension and i didn't even ask for it god\",\n",
       " \" those boots must be tasty for how much they're choking on 'em \",\n",
       " \"how do i tell my wawa they've had mocha mint in the regular ice coffee slot for two months\",\n",
       " 'are the gogglebox cast told to sit in the same place week in week out, or is that just human nature?',\n",
       " 'super duper grateful to everyone i have in my life ',\n",
       " 'actually considering applying for the undateables',\n",
       " 'friday night dinners will never be the same. so sad. paulritter',\n",
       " 'i wish i was smart enough for find the doctor',\n",
       " ' this is so good ...',\n",
       " 'best feeling: freshly shaved legs under your fuzzy blanket',\n",
       " \"this time tomorrow i'll be dying at school cannot wait!\"]"
      ]
     },
     "execution_count": 113,
     "metadata": {},
     "output_type": "execute_result"
    }
   ],
   "source": [
    "X_train.tolist()\n",
    "X_test.tolist()"
   ]
  },
  {
   "cell_type": "code",
   "execution_count": 114,
   "metadata": {},
   "outputs": [],
   "source": [
    "# Assuming X_train and X_test are currently in an incorrect format\n",
    "X_train = [str(text) for text in X_train]\n",
    "X_test = [str(text) for text in X_test]"
   ]
  },
  {
   "cell_type": "code",
   "execution_count": 115,
   "metadata": {},
   "outputs": [],
   "source": [
    "max_length = 288\n",
    "train_encodings = tokenizer(X_train, padding =True, truncation=True, max_length=max_length)\n",
    "test_encodings = tokenizer(X_test, padding =True, truncation=True, max_length=max_length)"
   ]
  },
  {
   "cell_type": "code",
   "execution_count": 116,
   "metadata": {},
   "outputs": [],
   "source": [
    "train_dataset = tf.data.Dataset.from_tensor_slices((dict(train_encodings), y_train))\n",
    "test_dataset = tf.data.Dataset.from_tensor_slices((dict(test_encodings), y_test))"
   ]
  },
  {
   "cell_type": "markdown",
   "metadata": {},
   "source": [
    "### Fine tuning Bert and Training"
   ]
  },
  {
   "cell_type": "code",
   "execution_count": 138,
   "metadata": {},
   "outputs": [
    {
     "name": "stdout",
     "output_type": "stream",
     "text": [
      "Epoch 1/3\n",
      "174/174 [==============================] - 434s 2s/step - loss: 0.6931 - accuracy: 0.7592 - val_loss: 0.6931 - val_accuracy: 0.7133\n",
      "Epoch 2/3\n",
      "174/174 [==============================] - 403s 2s/step - loss: 0.6931 - accuracy: 0.7592 - val_loss: 0.6931 - val_accuracy: 0.7133\n",
      "Epoch 3/3\n",
      "174/174 [==============================] - 398s 2s/step - loss: 0.6931 - accuracy: 0.7592 - val_loss: 0.6931 - val_accuracy: 0.7133\n"
     ]
    }
   ],
   "source": [
    "optimizer = tf.keras.optimizers.Adam(learning_rate=5e-5)\n",
    "loss = tf.keras.losses.SparseCategoricalCrossentropy(from_logits=True)\n",
    "\n",
    "model.compile(optimizer=\"adam\", loss=\"sparse_categorical_crossentropy\", metrics=[\"accuracy\"])\n",
    "\n",
    "\n",
    "history = model.fit(\n",
    "    train_dataset.shuffle(1000).batch(16),\n",
    "    epochs=3,\n",
    "    validation_data=test_dataset.batch(16)\n",
    "    batch_size  = 8\n",
    ")"
   ]
  },
  {
   "cell_type": "code",
   "execution_count": 141,
   "metadata": {},
   "outputs": [
    {
     "name": "stderr",
     "output_type": "stream",
     "text": [
      "C:\\Users\\Jay\\AppData\\Local\\Temp\\ipykernel_11764\\2700165049.py:7: UserWarning: No artists with labels found to put in legend.  Note that artists whose label start with an underscore are ignored when legend() is called with no argument.\n",
      "  plt.legend()\n"
     ]
    },
    {
     "data": {
      "image/png": "[encoded data removed]",
      "text/plain": [
       "<Figure size 640x480 with 1 Axes>"
      ]
     },
     "metadata": {},
     "output_type": "display_data"
    }
   ],
   "source": [
    "import matplotlib.pyplot as plt\n",
    "plt.plot(history.history['loss'])\n",
    "plt.plot(history.history['val_loss'])\n",
    "plt.xlabel('epochs')\n",
    "plt.ylabel('loss')\n",
    "plt.title('train and val loss')\n",
    "plt.legend()\n",
    "plt.show()"
   ]
  },
  {
   "cell_type": "code",
   "execution_count": 144,
   "metadata": {},
   "outputs": [
    {
     "name": "stdout",
     "output_type": "stream",
     "text": [
      "44/44 [==============================] - 22s 489ms/step\n"
     ]
    },
    {
     "data": {
      "text/plain": [
       "array([0, 0, 0, 0, 0, 0, 0, 0, 0, 0, 0, 0, 0, 0, 0, 0, 0, 0, 0, 0, 0, 0,\n",
       "       0, 0, 0, 0, 0, 0, 0, 0, 0, 0, 0, 0, 0, 0, 0, 0, 0, 0, 0, 0, 0, 0,\n",
       "       0, 0, 0, 0, 0, 0, 0, 0, 0, 0, 0, 0, 0, 0, 0, 0, 0, 0, 0, 0, 0, 0,\n",
       "       0, 0, 0, 0, 0, 0, 0, 0, 0, 0, 0, 0, 0, 0, 0, 0, 0, 0, 0, 0, 0, 0,\n",
       "       0, 0, 0, 0, 0, 0, 0, 0, 0, 0, 0, 0, 0, 0, 0, 0, 0, 0, 0, 0, 0, 0,\n",
       "       0, 0, 0, 0, 0, 0, 0, 0, 0, 0, 0, 0, 0, 0, 0, 0, 0, 0, 0, 0, 0, 0,\n",
       "       0, 0, 0, 0, 0, 0, 0, 0, 0, 0, 0, 0, 0, 0, 0, 0, 0, 0, 0, 0, 0, 0,\n",
       "       0, 0, 0, 0, 0, 0, 0, 0, 0, 0, 0, 0, 0, 0, 0, 0, 0, 0, 0, 0, 0, 0,\n",
       "       0, 0, 0, 0, 0, 0, 0, 0, 0, 0, 0, 0, 0, 0, 0, 0, 0, 0, 0, 0, 0, 0,\n",
       "       0, 0, 0, 0, 0, 0, 0, 0, 0, 0, 0, 0, 0, 0, 0, 0, 0, 0, 0, 0, 0, 0,\n",
       "       0, 0, 0, 0, 0, 0, 0, 0, 0, 0, 0, 0, 0, 0, 0, 0, 0, 0, 0, 0, 0, 0,\n",
       "       0, 0, 0, 0, 0, 0, 0, 0, 0, 0, 0, 0, 0, 0, 0, 0, 0, 0, 0, 0, 0, 0,\n",
       "       0, 0, 0, 0, 0, 0, 0, 0, 0, 0, 0, 0, 0, 0, 0, 0, 0, 0, 0, 0, 0, 0,\n",
       "       0, 0, 0, 0, 0, 0, 0, 0, 0, 0, 0, 0, 0, 0, 0, 0, 0, 0, 0, 0, 0, 0,\n",
       "       0, 0, 0, 0, 0, 0, 0, 0, 0, 0, 0, 0, 0, 0, 0, 0, 0, 0, 0, 0, 0, 0,\n",
       "       0, 0, 0, 0, 0, 0, 0, 0, 0, 0, 0, 0, 0, 0, 0, 0, 0, 0, 0, 0, 0, 0,\n",
       "       0, 0, 0, 0, 0, 0, 0, 0, 0, 0, 0, 0, 0, 0, 0, 0, 0, 0, 0, 0, 0, 0,\n",
       "       0, 0, 0, 0, 0, 0, 0, 0, 0, 0, 0, 0, 0, 0, 0, 0, 0, 0, 0, 0, 0, 0,\n",
       "       0, 0, 0, 0, 0, 0, 0, 0, 0, 0, 0, 0, 0, 0, 0, 0, 0, 0, 0, 0, 0, 0,\n",
       "       0, 0, 0, 0, 0, 0, 0, 0, 0, 0, 0, 0, 0, 0, 0, 0, 0, 0, 0, 0, 0, 0,\n",
       "       0, 0, 0, 0, 0, 0, 0, 0, 0, 0, 0, 0, 0, 0, 0, 0, 0, 0, 0, 0, 0, 0,\n",
       "       0, 0, 0, 0, 0, 0, 0, 0, 0, 0, 0, 0, 0, 0, 0, 0, 0, 0, 0, 0, 0, 0,\n",
       "       0, 0, 0, 0, 0, 0, 0, 0, 0, 0, 0, 0, 0, 0, 0, 0, 0, 0, 0, 0, 0, 0,\n",
       "       0, 0, 0, 0, 0, 0, 0, 0, 0, 0, 0, 0, 0, 0, 0, 0, 0, 0, 0, 0, 0, 0,\n",
       "       0, 0, 0, 0, 0, 0, 0, 0, 0, 0, 0, 0, 0, 0, 0, 0, 0, 0, 0, 0, 0, 0,\n",
       "       0, 0, 0, 0, 0, 0, 0, 0, 0, 0, 0, 0, 0, 0, 0, 0, 0, 0, 0, 0, 0, 0,\n",
       "       0, 0, 0, 0, 0, 0, 0, 0, 0, 0, 0, 0, 0, 0, 0, 0, 0, 0, 0, 0, 0, 0,\n",
       "       0, 0, 0, 0, 0, 0, 0, 0, 0, 0, 0, 0, 0, 0, 0, 0, 0, 0, 0, 0, 0, 0,\n",
       "       0, 0, 0, 0, 0, 0, 0, 0, 0, 0, 0, 0, 0, 0, 0, 0, 0, 0, 0, 0, 0, 0,\n",
       "       0, 0, 0, 0, 0, 0, 0, 0, 0, 0, 0, 0, 0, 0, 0, 0, 0, 0, 0, 0, 0, 0,\n",
       "       0, 0, 0, 0, 0, 0, 0, 0, 0, 0, 0, 0, 0, 0, 0, 0, 0, 0, 0, 0, 0, 0,\n",
       "       0, 0, 0, 0, 0, 0, 0, 0, 0, 0, 0, 0], dtype=int64)"
      ]
     },
     "execution_count": 144,
     "metadata": {},
     "output_type": "execute_result"
    }
   ],
   "source": [
    "from sklearn.metrics import classification_report, confusion_matrix\n",
    "import numpy as np\n",
    "\n",
    "\n",
    "y_prob = model.predict(test_dataset.batch(16))\n",
    "y_pred = np.argmax(y_prob.logits, axis=1)\n",
    "\n",
    "y_pred"
   ]
  },
  {
   "cell_type": "code",
   "execution_count": 146,
   "metadata": {},
   "outputs": [],
   "source": [
    "cm = confusion_matrix(y_test, y_pred)"
   ]
  },
  {
   "cell_type": "code",
   "execution_count": 147,
   "metadata": {},
   "outputs": [
    {
     "data": {
      "text/plain": [
       "array([[495,   0],\n",
       "       [199,   0]], dtype=int64)"
      ]
     },
     "execution_count": 147,
     "metadata": {},
     "output_type": "execute_result"
    }
   ],
   "source": [
    "cm"
   ]
  },
  {
   "cell_type": "code",
   "execution_count": 148,
   "metadata": {},
   "outputs": [
    {
     "data": {
      "image/png": "[encoded data removed]",
      "text/plain": [
       "<Figure size 800x600 with 2 Axes>"
      ]
     },
     "metadata": {},
     "output_type": "display_data"
    }
   ],
   "source": [
    "# plot the confusion confusion_matrix\n",
    "\n",
    "plt.figure(figsize=(8,6))\n",
    "plt.imshow(cm, interpolation='nearest', cmap=plt.cm.Blues)\n",
    "plt.title('Confusion Matrix')\n",
    "plt.colorbar()\n",
    "tick_marks = np.arange(2) #assuming you have binary classification (0 and 1)\n",
    "plt.xticks(tick_marks, ['Not Sarcastic', 'Sarcastic'])\n",
    "plt.yticks(tick_marks, ['Not Sarcastic', 'Sarcastic'])\n",
    "\n",
    "\n",
    "thresh = cm.max() / 2\n",
    "for i in range(cm.shape[0]):\n",
    "    for j in range(cm.shape[1]):\n",
    "        plt.text(j, i, str(cm[i,j]), ha='center', va='center', color='black')\n",
    "\n",
    "plt.xlabel('Predicted Label')\n",
    "plt.ylabel('True Label')\n",
    "plt.tight_layout()\n",
    "plt.show()"
   ]
  },
  {
   "cell_type": "code",
   "execution_count": 149,
   "metadata": {},
   "outputs": [
    {
     "name": "stderr",
     "output_type": "stream",
     "text": [
      "c:\\Users\\Jay\\AppData\\Local\\Programs\\Python\\Python311\\Lib\\site-packages\\sklearn\\metrics\\_classification.py:1531: UndefinedMetricWarning: Precision is ill-defined and being set to 0.0 in labels with no predicted samples. Use `zero_division` parameter to control this behavior.\n",
      "  _warn_prf(average, modifier, f\"{metric.capitalize()} is\", len(result))\n",
      "c:\\Users\\Jay\\AppData\\Local\\Programs\\Python\\Python311\\Lib\\site-packages\\sklearn\\metrics\\_classification.py:1531: UndefinedMetricWarning: Precision is ill-defined and being set to 0.0 in labels with no predicted samples. Use `zero_division` parameter to control this behavior.\n",
      "  _warn_prf(average, modifier, f\"{metric.capitalize()} is\", len(result))\n",
      "c:\\Users\\Jay\\AppData\\Local\\Programs\\Python\\Python311\\Lib\\site-packages\\sklearn\\metrics\\_classification.py:1531: UndefinedMetricWarning: Precision is ill-defined and being set to 0.0 in labels with no predicted samples. Use `zero_division` parameter to control this behavior.\n",
      "  _warn_prf(average, modifier, f\"{metric.capitalize()} is\", len(result))\n"
     ]
    },
    {
     "data": {
      "text/plain": [
       "'              precision    recall  f1-score   support\\n\\n           0       0.71      1.00      0.83       495\\n           1       0.00      0.00      0.00       199\\n\\n    accuracy                           0.71       694\\n   macro avg       0.36      0.50      0.42       694\\nweighted avg       0.51      0.71      0.59       694\\n'"
      ]
     },
     "execution_count": 149,
     "metadata": {},
     "output_type": "execute_result"
    }
   ],
   "source": [
    "classification_report(y_test, y_pred)"
   ]
  },
  {
   "cell_type": "code",
   "execution_count": 151,
   "metadata": {},
   "outputs": [],
   "source": [
    "model.save_pretrained(\"my_distil_bert\")"
   ]
  },
  {
   "cell_type": "code",
   "execution_count": 152,
   "metadata": {},
   "outputs": [
    {
     "name": "stderr",
     "output_type": "stream",
     "text": [
      "Some layers from the model checkpoint at my_distil_bert were not used when initializing TFDistilBertForSequenceClassification: ['dropout_59']\n",
      "- This IS expected if you are initializing TFDistilBertForSequenceClassification from the checkpoint of a model trained on another task or with another architecture (e.g. initializing a BertForSequenceClassification model from a BertForPreTraining model).\n",
      "- This IS NOT expected if you are initializing TFDistilBertForSequenceClassification from the checkpoint of a model that you expect to be exactly identical (initializing a BertForSequenceClassification model from a BertForSequenceClassification model).\n",
      "Some layers of TFDistilBertForSequenceClassification were not initialized from the model checkpoint at my_distil_bert and are newly initialized: ['dropout_79']\n",
      "You should probably TRAIN this model on a down-stream task to be able to use it for predictions and inference.\n"
     ]
    }
   ],
   "source": [
    "loaded_model = TFDistilBertForSequenceClassification.from_pretrained('my_distil_bert')"
   ]
  },
  {
   "cell_type": "markdown",
   "metadata": {},
   "source": [
    "### Predictive System"
   ]
  },
  {
   "cell_type": "code",
   "execution_count": 159,
   "metadata": {},
   "outputs": [],
   "source": [
    "def predictive(text):\n",
    "    text = preprocess_text(text)\n",
    "    inputs = tokenizer(text, padding=True, truncation=True, max_length= max_length, return_tensors='tf')\n",
    "    logits = loaded_model(inputs).logits\n",
    "\n",
    "    probabilities = tf.nn.softmax(logits, axis=1).numpy()\n",
    "    predicted_label = np.argmax(probabilities, axis=1)\n",
    "\n",
    "    return predicted_label\n",
    "\n"
   ]
  },
  {
   "cell_type": "code",
   "execution_count": 160,
   "metadata": {},
   "outputs": [
    {
     "data": {
      "text/plain": [
       "array([0], dtype=int64)"
      ]
     },
     "execution_count": 160,
     "metadata": {},
     "output_type": "execute_result"
    }
   ],
   "source": [
    "text = \"the only thing i got from college is a caffeine addiction\"\n",
    "predicted_label = predictive(text)\n",
    "predicted_label"
   ]
  },
  {
   "cell_type": "code",
   "execution_count": 158,
   "metadata": {},
   "outputs": [
    {
     "data": {
      "text/plain": [
       "'the only thing i got from college is a caffeine addiction'"
      ]
     },
     "execution_count": 158,
     "metadata": {},
     "output_type": "execute_result"
    }
   ],
   "source": [
    "df['sarcastic'][0]\n",
    "df['cleaned_tweet'][0]"
   ]
  }
 ],
 "metadata": {
  "kernelspec": {
   "display_name": "Python 3",
   "language": "python",
   "name": "python3"
  },
  "language_info": {
   "codemirror_mode": {
    "name": "ipython",
    "version": 3
   },
   "file_extension": ".py",
   "mimetype": "text/x-python",
   "name": "python",
   "nbconvert_exporter": "python",
   "pygments_lexer": "ipython3",
   "version": "3.11.0"
  }
 },
 "nbformat": 4,
 "nbformat_minor": 2
}
